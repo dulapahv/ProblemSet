{
  "cells": [
    {
      "cell_type": "markdown",
      "metadata": {
        "id": "jHlbn8ZC2biS"
      },
      "source": [
        "# **Introduction**\n",
        "\n",
        "The \"Demo Program: High-Level Language with Embedded SQL Statements\" is a Python notebook file that demonstrates how to implement SQL in Python via SQLite. The code includes embedded SQL statements that allow the program to interact with a database and perform various operations such as querying data, inserting new records, updating existing data, and deleting records."
      ]
    },
    {
      "cell_type": "markdown",
      "metadata": {
        "id": "v_iKq2DL2xYm"
      },
      "source": [
        "# [Optional] Remove existing database\n",
        "Just in case you have to run this again"
      ]
    },
    {
      "cell_type": "code",
      "execution_count": 27,
      "metadata": {
        "id": "MpHYTGndZod8"
      },
      "outputs": [],
      "source": [
        "import os\n",
        "os.remove(\"data.db\")"
      ]
    },
    {
      "cell_type": "markdown",
      "metadata": {
        "id": "PWm_MnbV3N5y"
      },
      "source": [
        "# Import SQLite3 module"
      ]
    },
    {
      "cell_type": "code",
      "execution_count": 28,
      "metadata": {
        "id": "FL3hOkQaZod9"
      },
      "outputs": [],
      "source": [
        "import sqlite3"
      ]
    },
    {
      "cell_type": "markdown",
      "metadata": {
        "id": "nzWew5Sx3YfH"
      },
      "source": [
        "# Connect to the SQLite database"
      ]
    },
    {
      "cell_type": "code",
      "execution_count": 29,
      "metadata": {
        "id": "3T1_9MzlZod_"
      },
      "outputs": [],
      "source": [
        "connection = sqlite3.connect('data.db')"
      ]
    },
    {
      "cell_type": "markdown",
      "metadata": {
        "id": "iXVpQmWr3ceI"
      },
      "source": [
        "# Create a cursor, a pointer to the database"
      ]
    },
    {
      "cell_type": "code",
      "execution_count": 30,
      "metadata": {
        "id": "fFzBmKS_ZoeB"
      },
      "outputs": [],
      "source": [
        "cursor = connection.cursor()"
      ]
    },
    {
      "cell_type": "markdown",
      "metadata": {
        "id": "a88Phb0V3hPj"
      },
      "source": [
        "# Build a simple table"
      ]
    },
    {
      "cell_type": "code",
      "execution_count": 31,
      "metadata": {
        "colab": {
          "base_uri": "https://localhost:8080/"
        },
        "id": "W3gt-Ve4ZoeC",
        "outputId": "d26d4b4e-2ebd-40f3-8d17-d08bed6eff50"
      },
      "outputs": [
        {
          "data": {
            "text/plain": [
              "<sqlite3.Cursor at 0x29360cc4540>"
            ]
          },
          "execution_count": 31,
          "metadata": {},
          "output_type": "execute_result"
        }
      ],
      "source": [
        "create_table = \"CREATE TABLE IF NOT EXISTS people (id integer primary key, first_name text, last_name text)\"\n",
        "cursor.execute(create_table)  # and we have to execute the query"
      ]
    },
    {
      "cell_type": "markdown",
      "metadata": {
        "id": "LBPYmzHB3x6c"
      },
      "source": [
        "# Create a table for the items"
      ]
    },
    {
      "cell_type": "code",
      "execution_count": 32,
      "metadata": {
        "colab": {
          "base_uri": "https://localhost:8080/"
        },
        "id": "WkhpJlawZoeF",
        "outputId": "0b4bb08a-6025-496f-edd6-1fa4deda2362"
      },
      "outputs": [
        {
          "data": {
            "text/plain": [
              "<sqlite3.Cursor at 0x29360cc4540>"
            ]
          },
          "execution_count": 32,
          "metadata": {},
          "output_type": "execute_result"
        }
      ],
      "source": [
        "create_table_items = \"CREATE TABLE IF NOT EXISTS items (id integer primary key, name text, price real)\"\n",
        "cursor.execute(create_table_items)"
      ]
    },
    {
      "cell_type": "markdown",
      "metadata": {
        "id": "ctr_AKEN4PMD"
      },
      "source": [
        "# Let's insert some data into the table"
      ]
    },
    {
      "cell_type": "code",
      "execution_count": 33,
      "metadata": {
        "colab": {
          "base_uri": "https://localhost:8080/"
        },
        "id": "KFu4gKIXZoeI",
        "outputId": "d63916b1-7c8a-415c-ed1b-f0cf998886e3"
      },
      "outputs": [
        {
          "data": {
            "text/plain": [
              "<sqlite3.Cursor at 0x29360cc4540>"
            ]
          },
          "execution_count": 33,
          "metadata": {},
          "output_type": "execute_result"
        }
      ],
      "source": [
        "insert_hitagi = \"INSERT INTO people VALUES (1, 'Hitagi', 'Senjougahara')\"\n",
        "cursor.execute(insert_hitagi)"
      ]
    },
    {
      "cell_type": "markdown",
      "metadata": {
        "id": "ZBja1D134UYx"
      },
      "source": [
        "# Worst way possible to insert data into the table"
      ]
    },
    {
      "cell_type": "code",
      "execution_count": 34,
      "metadata": {
        "colab": {
          "base_uri": "https://localhost:8080/"
        },
        "id": "-sSe3PopZoeJ",
        "outputId": "dc4d54b7-e7ef-4b82-e743-8da6390c0cfa"
      },
      "outputs": [
        {
          "data": {
            "text/plain": [
              "<sqlite3.Cursor at 0x29360cc4540>"
            ]
          },
          "execution_count": 34,
          "metadata": {},
          "output_type": "execute_result"
        }
      ],
      "source": [
        "insert_nozomu = \"INSERT INTO people VALUES ({}, '{}', '{}')\".format(\n",
        "    999, 'Nozomu', 'Itoshiki')\n",
        "cursor.execute(insert_nozomu)  # bobby tables, anyone?"
      ]
    },
    {
      "cell_type": "markdown",
      "metadata": {
        "id": "1qDgIwYD4XAY"
      },
      "source": [
        "# Safer way to insert data into the table"
      ]
    },
    {
      "cell_type": "code",
      "execution_count": 35,
      "metadata": {
        "colab": {
          "base_uri": "https://localhost:8080/"
        },
        "id": "z0eX1E82ZoeL",
        "outputId": "21af5069-6b39-4b56-9fc9-bcd395dccc26"
      },
      "outputs": [
        {
          "data": {
            "text/plain": [
              "<sqlite3.Cursor at 0x29360cc4540>"
            ]
          },
          "execution_count": 35,
          "metadata": {},
          "output_type": "execute_result"
        }
      ],
      "source": [
        "insert = \"INSERT INTO people VALUES (?, ?, ?)\"\n",
        "cursor.execute(insert, (2, 'Madoka', 'Kaname'))"
      ]
    },
    {
      "attachments": {},
      "cell_type": "markdown",
      "metadata": {
        "id": "LIyHbxP0ZoeP"
      },
      "source": [
        "# Why use that instead of string formatting?\n",
        "\n",
        "Ever heard of SQL injection? It's where the user can enter SQL commands into a form and have them executed on the server. This is a huge security risk.\n",
        "If we sanitize the data first and not just shove it into the SQL command, we can avoid this.\n",
        "\n",
        "https://xkcd.com/327/\n",
        "\n",
        "https://bobby-tables.com/python\n",
        "\n",
        "So PLEASE, don't use string formatting to insert data into SQL commands. Use the parameter substitution instead."
      ]
    },
    {
      "cell_type": "markdown",
      "metadata": {
        "id": "5kwgc8mb4c7P"
      },
      "source": [
        "# After we insert data, we have to commit it\n",
        "If you don't commit, the data won't be saved to the \"database\" (SQLite stores the whole DB in a single file)"
      ]
    },
    {
      "cell_type": "code",
      "execution_count": 36,
      "metadata": {
        "id": "a90iKzfXZoeS"
      },
      "outputs": [],
      "source": [
        "connection.commit()"
      ]
    },
    {
      "cell_type": "markdown",
      "metadata": {
        "id": "-P7iM0qC4qGM"
      },
      "source": [
        "# Now, let's retrieve the data from the table\n",
        "You'll get a list of tuples. Each tuple is a row in the table\n",
        "\n",
        "To actually use it, you must write a function to convert it into an object or a dictionary\n",
        "\n",
        "Or even better: ORM"
      ]
    },
    {
      "cell_type": "code",
      "execution_count": 37,
      "metadata": {
        "colab": {
          "base_uri": "https://localhost:8080/"
        },
        "id": "To63j_qJZoeU",
        "outputId": "79cb238d-77ce-416d-8cd4-88dad8e71fd5"
      },
      "outputs": [
        {
          "name": "stdout",
          "output_type": "stream",
          "text": [
            "(1, 'Hitagi', 'Senjougahara')\n",
            "(2, 'Madoka', 'Kaname')\n",
            "(999, 'Nozomu', 'Itoshiki')\n"
          ]
        }
      ],
      "source": [
        "select = \"SELECT * FROM people\"\n",
        "for row in cursor.execute(select):\n",
        "    print(row)"
      ]
    },
    {
      "cell_type": "markdown",
      "metadata": {
        "id": "6hOB7k0x4_UX"
      },
      "source": [
        "# Insert multiple data into the table\n",
        "\n",
        "We can insert multiple data into the table with `executemany()` and a list of tuples."
      ]
    },
    {
      "cell_type": "code",
      "execution_count": 38,
      "metadata": {
        "id": "RX5kpiyvZoea"
      },
      "outputs": [],
      "source": [
        "people = [\n",
        "    (3, 'Tsubasa', 'Hanekawa'),\n",
        "    (4, 'Mayoi', 'Hachikuji'),\n",
        "    (5, 'Suruga', 'Kanbaru'),\n",
        "    (6, 'Nadeko', 'Sengoku'),\n",
        "    (7, 'Karen', 'Araragi'),\n",
        "    (8, 'Tsukihi', 'Araragi'),\n",
        "    (9, 'Shinobu', 'Oshino'),\n",
        "    (10, 'Meme', 'Oshino'),\n",
        "    (11, 'Deishu', 'Kaiki'),\n",
        "    (12, 'Izuko', 'Gaen'),\n",
        "    (13, 'Yozuru', 'Kagenui'),\n",
        "    (14, 'Yotsugi', 'Ononoki'),\n",
        "    (15, 'Ougi', 'Oshino'),\n",
        "    (16, 'Tooe', 'Gaen'),\n",
        "]\n",
        "\n",
        "# we use executemany() to insert multiple data. it can read tuples, lists, and dictionaries\n",
        "cursor.executemany(\"INSERT INTO people VALUES (?, ?, ?)\", people)\n",
        "connection.commit()"
      ]
    },
    {
      "cell_type": "markdown",
      "metadata": {
        "id": "mKtPisFw5Uav"
      },
      "source": [
        "# Now, let's see the result"
      ]
    },
    {
      "cell_type": "code",
      "execution_count": 39,
      "metadata": {
        "colab": {
          "base_uri": "https://localhost:8080/"
        },
        "id": "lFN97hxjZoee",
        "outputId": "5fa69455-0332-4898-efb9-030034c2f371"
      },
      "outputs": [
        {
          "name": "stdout",
          "output_type": "stream",
          "text": [
            "(1, 'Hitagi', 'Senjougahara')\n",
            "(2, 'Madoka', 'Kaname')\n",
            "(3, 'Tsubasa', 'Hanekawa')\n",
            "(4, 'Mayoi', 'Hachikuji')\n",
            "(5, 'Suruga', 'Kanbaru')\n",
            "(6, 'Nadeko', 'Sengoku')\n",
            "(7, 'Karen', 'Araragi')\n",
            "(8, 'Tsukihi', 'Araragi')\n",
            "(9, 'Shinobu', 'Oshino')\n",
            "(10, 'Meme', 'Oshino')\n",
            "(11, 'Deishu', 'Kaiki')\n",
            "(12, 'Izuko', 'Gaen')\n",
            "(13, 'Yozuru', 'Kagenui')\n",
            "(14, 'Yotsugi', 'Ononoki')\n",
            "(15, 'Ougi', 'Oshino')\n",
            "(16, 'Tooe', 'Gaen')\n",
            "(999, 'Nozomu', 'Itoshiki')\n"
          ]
        }
      ],
      "source": [
        "select = \"SELECT * FROM people\"\n",
        "for row in cursor.execute(select):\n",
        "    print(row)\n",
        "\n",
        "# ok good"
      ]
    },
    {
      "cell_type": "markdown",
      "metadata": {
        "id": "t9Z1uZdY5iOL"
      },
      "source": [
        "## Or just use for loops and string formatting. works too\n",
        "\n",
        "(not recommeded, string formatting is prone to SQL injection)."
      ]
    },
    {
      "cell_type": "code",
      "execution_count": 40,
      "metadata": {
        "id": "AbdwSGq4Zoef"
      },
      "outputs": [],
      "source": [
        "morepeople = [\n",
        "    (17, 'John', 'Price'),\n",
        "    (18, 'Soap', 'MacTavish'),\n",
        "    (19, 'Simon', 'Riley'),\n",
        "    (20, 'Kyle', 'Garrick'),\n",
        "    (21, 'Alejandro', 'Vargas'),\n",
        "    (22, 'Kate', 'Laswell'),\n",
        "]\n",
        "\n",
        "for person in morepeople:\n",
        "    cursor.execute(insert, person)\n",
        "\n",
        "connection.commit()"
      ]
    },
    {
      "cell_type": "markdown",
      "metadata": {
        "id": "cw2B74wa5tlH"
      },
      "source": [
        "## Let's see how bad it is to use string formatting"
      ]
    },
    {
      "cell_type": "code",
      "execution_count": 41,
      "metadata": {
        "id": "w-bBRj2hZoeh"
      },
      "outputs": [],
      "source": [
        "anglefish = [\n",
        "    (23, 'Miho', 'Nishizumi'),\n",
        "    (24, 'Saori', 'Takebe'),\n",
        "    (25, 'Hana', 'Isuzu'),\n",
        "    (26, 'Yukari', 'Akiyama'),\n",
        "    (27, 'Mako', 'Reizei'),\n",
        "]\n",
        "\n",
        "for person in anglefish:\n",
        "    # now imagine instead of 'yukari', it's 'yukari'; DROP TABLE people; -- '\n",
        "    execution = \"INSERT INTO people VALUES ({}, '{}', '{}')\".format(\n",
        "        person[0], person[1], person[2])\n",
        "    cursor.execute(execution)\n",
        "\n",
        "connection.commit()"
      ]
    },
    {
      "cell_type": "markdown",
      "metadata": {
        "id": "AmMarq4L50RJ"
      },
      "source": [
        "# Let's specifically select a person"
      ]
    },
    {
      "cell_type": "code",
      "execution_count": 42,
      "metadata": {
        "colab": {
          "base_uri": "https://localhost:8080/"
        },
        "id": "dQaYHtTXZoei",
        "outputId": "a8bf64b6-7d99-421c-d2c5-3bd4b42133fe"
      },
      "outputs": [
        {
          "name": "stdout",
          "output_type": "stream",
          "text": [
            "(7, 'Karen', 'Araragi')\n",
            "(8, 'Tsukihi', 'Araragi')\n",
            "\n",
            "(1, 'Hitagi', 'Senjougahara')\n",
            "(2, 'Madoka', 'Kaname')\n",
            "(3, 'Tsubasa', 'Hanekawa')\n",
            "(4, 'Mayoi', 'Hachikuji')\n",
            "\n",
            "[(17, 'John', 'Price'), (18, 'Soap', 'MacTavish'), (19, 'Simon', 'Riley'), (20, 'Kyle', 'Garrick'), (21, 'Alejandro', 'Vargas'), (22, 'Kate', 'Laswell')]\n",
            "\n",
            "[(17, 'John', 'Price'), (18, 'Soap', 'MacTavish')]\n",
            "(19, 'Simon', 'Riley')\n",
            "(20, 'Kyle', 'Garrick')\n"
          ]
        }
      ],
      "source": [
        "select_araragi = \"SELECT * FROM people WHERE last_name = 'Araragi'\"\n",
        "for row in cursor.execute(select_araragi):\n",
        "    print(row)\n",
        "\n",
        "print()\n",
        "\n",
        "select_lessthanfive = \"SELECT * FROM people WHERE id < 5\"\n",
        "for row in cursor.execute(select_lessthanfive):\n",
        "    print(row)\n",
        "\n",
        "print()\n",
        "\n",
        "# you can use fetch methods to get the data, like this\n",
        "select_taskforce141 = \"SELECT * FROM people WHERE id < 23 AND id > 16\"\n",
        "cursor.execute(select_taskforce141)\n",
        "# fetchall() returns the whole result set as a list of tuples\n",
        "print(cursor.fetchall())\n",
        "# if you fetch, the cursor will move to the next row.\n",
        "\n",
        "print()\n",
        "\n",
        "# for this, we have to execute the query again\n",
        "cursor.execute(select_taskforce141)\n",
        "# fetchmany() returns the first n rows of the result set, in this case, Captain Price and Soap\n",
        "print(cursor.fetchmany(2))\n",
        "# fetchone() returns the first row of the result set, in this case, Ghost\n",
        "print(cursor.fetchone())\n",
        "# fetching again returns the next row, in this case, Gaz\n",
        "print(cursor.fetchone())"
      ]
    },
    {
      "cell_type": "markdown",
      "metadata": {
        "id": "pC5S1-Ws5_Or"
      },
      "source": [
        "# Let's insert some items into the items table"
      ]
    },
    {
      "cell_type": "code",
      "execution_count": 43,
      "metadata": {
        "id": "BV4KYUp9Zoel"
      },
      "outputs": [],
      "source": [
        "items = [\n",
        "    (1, 'Ramen', 100),\n",
        "    (2, 'Bread', 50),\n",
        "    (3, 'Coffee', 150),\n",
        "    (4, 'Tea', 100),\n",
        "    (5, 'Soda', 100),\n",
        "    (6, 'Water', 50),\n",
        "    (7, 'M4A1', 1000),\n",
        "    (8, 'AK-47', 1000),\n",
        "    (9, 'Saiga 12 with Dragon Breath', 7000),\n",
        "    (10, 'B&T APC556 tuned by wzstats.gg', 2500),\n",
        "    (11, 'Gunship Killstreak', 20000),\n",
        "    (12, 'Juggernaut Killstreak', 15000),\n",
        "    (13, 'Tactical Nuke Killstreak', 25000),\n",
        "    (14, 'Love', 2.21),\n",
        "]\n",
        "\n",
        "cursor.executemany(\"INSERT INTO items VALUES (?, ?, ?)\", items)\n",
        "connection.commit()"
      ]
    },
    {
      "cell_type": "markdown",
      "metadata": {
        "id": "gvzwu4OS6CAE"
      },
      "source": [
        "# Let's retrieve the data from the items table"
      ]
    },
    {
      "cell_type": "code",
      "execution_count": 44,
      "metadata": {
        "colab": {
          "base_uri": "https://localhost:8080/"
        },
        "id": "BVcSdbMLZoel",
        "outputId": "b7ab99f3-1317-42ae-dfde-aa3e46b06f0a"
      },
      "outputs": [
        {
          "name": "stdout",
          "output_type": "stream",
          "text": [
            "(1, 'Ramen', 100.0)\n",
            "(2, 'Bread', 50.0)\n",
            "(3, 'Coffee', 150.0)\n",
            "(4, 'Tea', 100.0)\n",
            "(5, 'Soda', 100.0)\n",
            "(6, 'Water', 50.0)\n",
            "(7, 'M4A1', 1000.0)\n",
            "(8, 'AK-47', 1000.0)\n",
            "(9, 'Saiga 12 with Dragon Breath', 7000.0)\n",
            "(10, 'B&T APC556 tuned by wzstats.gg', 2500.0)\n",
            "(11, 'Gunship Killstreak', 20000.0)\n",
            "(12, 'Juggernaut Killstreak', 15000.0)\n",
            "(13, 'Tactical Nuke Killstreak', 25000.0)\n",
            "(14, 'Love', 2.21)\n"
          ]
        }
      ],
      "source": [
        "select = \"SELECT * FROM items\"\n",
        "for row in cursor.execute(select):\n",
        "    print(row)\n",
        "\n",
        "# ok good now we have a database with some data in it"
      ]
    },
    {
      "cell_type": "markdown",
      "metadata": {
        "id": "WrHdkIsR6FMf"
      },
      "source": [
        "# Table to store many to many relationship"
      ]
    },
    {
      "cell_type": "code",
      "execution_count": 45,
      "metadata": {
        "id": "XBeenXQdZoen"
      },
      "outputs": [],
      "source": [
        "create_table = \"CREATE TABLE IF NOT EXISTS purchases (id integer primary key autoincrement not null, person_id integer, item_id integer, FOREIGN KEY(person_id) REFERENCES people(id), FOREIGN KEY(item_id) REFERENCES items(id))\"\n",
        "cursor.execute(create_table)\n",
        "connection.commit()"
      ]
    },
    {
      "cell_type": "markdown",
      "metadata": {
        "id": "Qc2VMm_76H3D"
      },
      "source": [
        "# Let's insert some data into the table\n",
        "*Note: You may have to actually write some code for the employees to easily log purchases.*\n",
        "\n",
        "For example:\n",
        "\n",
        "```\n",
        "while loop:\n",
        "\n",
        "  if input == 'exit': \n",
        "      break\n",
        "  else:\n",
        "    if user input and item input corresponds to an id:\n",
        "      insert it into the table\n",
        "    else:\n",
        "      print 'invalid input' or something idk maybe raise an exception\n",
        "```"
      ]
    },
    {
      "cell_type": "code",
      "execution_count": 46,
      "metadata": {
        "id": "94S1GfKmZoen"
      },
      "outputs": [],
      "source": [
        "purchases = [\n",
        "    # hanekawa bought the APC556\n",
        "    (None, 3, 10),  # hanekawa's id is 3, and the APC556's id is 10\n",
        "    # madoka bought the bread\n",
        "    (None, 2, 2),  # madoka's id is 2, and the bread's id is 2\n",
        "    # miho bought the Gunship Killstreak\n",
        "    (None, 23, 11),  # miho's id is 23, and the Gunship Killstreak's id is 11\n",
        "    # captain price is hungry\n",
        "    (None, 17, 1),  # captain price's id is 17, and the ramen's id is 1\n",
        "    # maybe thirsty too\n",
        "    (None, 17, 5),  # captain price's id is 17, and the soda's id is 5\n",
        "    # ghost also craves the ramen\n",
        "    (None, 19, 1),  # ghost's id is 19, and the ramen's id is 1\n",
        "    # and finally, kaiki got the tactical nuke\n",
        "    (None, 11, 13),  # kaiki's id is 11, and the tactical nuke's id is 13\n",
        "    # nah, nadeko also got 25 killstreak\n",
        "    (None, 6, 13),  # nadeko's id is 6, and the tactical nuke's id is 13\n",
        "]\n",
        "\n",
        "cursor.executemany(\"INSERT INTO purchases VALUES (?, ?, ?)\", purchases)\n",
        "connection.commit()  # don't forget to commit"
      ]
    },
    {
      "cell_type": "markdown",
      "metadata": {
        "id": "VoZXJGNS7Xds"
      },
      "source": [
        "# Let's query some data\n",
        "Let's say we want to get the name of the person who bought the ramen\n",
        "\n",
        "Let's go line by line:\n",
        "\n",
        "`SELECT people.first_name, people.last_name`\n",
        "\n",
        "\n",
        "\n",
        "we want to get the first name and last name of the person\n",
        "\n",
        "`FROM people`\n",
        "\n",
        "from the people table\n",
        "\n",
        "`JOIN purchases`\n",
        "\n",
        "join the purchases table\n",
        "\n",
        "`ON people.id = purchases.person_id`\n",
        "\n",
        "where the id of the people table is equal to the person_id of the purchases table\n",
        "\n",
        "`JOIN items`\n",
        "\n",
        "join the items table\n",
        "\n",
        "`ON items.id = purchases.item_id`\n",
        "\n",
        "where the id of the items table is equal to the item_id of the purchases table\n",
        "\n",
        "`WHERE items.name = 'Ramen'`\n",
        "\n",
        "where the name of the items table is equal to 'Ramen'\n",
        "\n",
        "---\n",
        "\n",
        "*Note: You can use WHERE items.name LIKE '%Ramen%' to get all items that contains the word 'Ramen'.*\n",
        "\n",
        "Which should be Captain Price and Ghost. Let's print it out"
      ]
    },
    {
      "cell_type": "code",
      "execution_count": 47,
      "metadata": {
        "colab": {
          "base_uri": "https://localhost:8080/"
        },
        "id": "FACG8t-YZoeo",
        "outputId": "8a02cc15-a936-4964-dff6-0bc823b8f78f"
      },
      "outputs": [
        {
          "name": "stdout",
          "output_type": "stream",
          "text": [
            "('John', 'Price')\n",
            "('Simon', 'Riley')\n"
          ]
        }
      ],
      "source": [
        "query = (\n",
        "    \"\"\"\n",
        "    SELECT people.first_name, people.last_name\n",
        "    FROM people\n",
        "    JOIN purchases\n",
        "    ON people.id = purchases.person_id\n",
        "    JOIN items\n",
        "    ON items.id = purchases.item_id\n",
        "    WHERE items.name = 'Ramen'\n",
        "    \"\"\"\n",
        ")  # we use JOIN to join tables together\n",
        "\n",
        "for row in cursor.execute(query):\n",
        "    print(row)"
      ]
    },
    {
      "cell_type": "markdown",
      "metadata": {
        "id": "kLoNSvSb97QN"
      },
      "source": [
        "# Let's say we want the data on Hanekawa's purchase\n",
        "\n",
        "Let's go line by line:\n",
        "\n",
        "`SELECT people.first_name, people.last_name, items.name, items.price`\n",
        "\n",
        "we want to get the first name, last name, item name, and item price\n",
        "\n",
        "`FROM people`\n",
        "\n",
        "from the people table\n",
        "\n",
        "`JOIN purchases`\n",
        "\n",
        "join the purchases table\n",
        "\n",
        "`ON people.id = purchases.person_id`\n",
        "\n",
        "where the id of the people table is equal to the person_id of the purchases table\n",
        "\n",
        "`JOIN items`\n",
        "\n",
        "join the items table\n",
        "\n",
        "`ON items.id = purchases.item_id`\n",
        "\n",
        "where the id of the items table is equal to the item_id of the purchases table\n",
        "\n",
        "`WHERE people.first_name = 'Hanekawa'`\n",
        "\n",
        "where the first name of the people table is equal to 'Hanekawa'\n",
        "\n",
        "Which should be the APC556. Let's print it out"
      ]
    },
    {
      "cell_type": "code",
      "execution_count": 48,
      "metadata": {
        "colab": {
          "base_uri": "https://localhost:8080/"
        },
        "id": "qXXCYfAbZoep",
        "outputId": "46f983bd-8280-494c-b391-46c4082be222"
      },
      "outputs": [
        {
          "name": "stdout",
          "output_type": "stream",
          "text": [
            "('Tsubasa', 'Hanekawa', 'B&T APC556 tuned by wzstats.gg', 2500.0)\n"
          ]
        }
      ],
      "source": [
        "query = (\n",
        "    \"\"\"\n",
        "    SELECT people.first_name, people.last_name, items.name, items.price\n",
        "    FROM people\n",
        "    JOIN purchases\n",
        "    ON people.id = purchases.person_id\n",
        "    JOIN items\n",
        "    ON items.id = purchases.item_id\n",
        "    WHERE people.first_name = 'Tsubasa'\n",
        "    \"\"\"\n",
        ")\n",
        "\n",
        "cursor.execute(query)\n",
        "print(cursor.fetchone()) # we only want one row, so we use fetchone()"
      ]
    },
    {
      "cell_type": "markdown",
      "metadata": {
        "id": "9GakE4GwLpV2"
      },
      "source": [
        "# Let's say we want to get the total amount of money spent by each person\n",
        "\n",
        "Let's go line by line:\n",
        "\n",
        "`SELECT people.first_name, people.last_name, SUM(items.price)`\n",
        "\n",
        "we want to get the first name, last name, and the sum of the price of all items bought by the person\n",
        "\n",
        "`FROM people`\n",
        "\n",
        "from the people table\n",
        "\n",
        "`JOIN purchases`\n",
        "\n",
        "join the purchases table\n",
        "\n",
        "`ON people.id = purchases.person_id`\n",
        "\n",
        "where the id of the people table is equal to the person_id of the purchases table\n",
        "\n",
        "`JOIN items`\n",
        "\n",
        "join the items table\n",
        "\n",
        "`ON items.id = purchases.item_id`\n",
        "\n",
        "where the id of the items table is equal to the item_id of the purchases table\n",
        "\n",
        "`GROUP BY people.id`\n",
        "\n",
        "group the data by the id of the people table\n",
        "\n",
        "*Note that Yukari doesn't have any purchases, so her total amount spent is 0, and she's not included in the result*"
      ]
    },
    {
      "cell_type": "code",
      "execution_count": 49,
      "metadata": {
        "colab": {
          "base_uri": "https://localhost:8080/"
        },
        "id": "Ug7R9yU1Zoep",
        "outputId": "fdf5f3e5-1a0d-425e-89ac-79021d16b7ae"
      },
      "outputs": [
        {
          "name": "stdout",
          "output_type": "stream",
          "text": [
            "('Madoka', 'Kaname', 50.0)\n",
            "('Tsubasa', 'Hanekawa', 2500.0)\n",
            "('Nadeko', 'Sengoku', 25000.0)\n",
            "('Deishu', 'Kaiki', 25000.0)\n",
            "('John', 'Price', 200.0)\n",
            "('Simon', 'Riley', 100.0)\n",
            "('Miho', 'Nishizumi', 20000.0)\n"
          ]
        }
      ],
      "source": [
        "query = (\n",
        "    \"\"\"\n",
        "    SELECT people.first_name, people.last_name, SUM(items.price)\n",
        "    FROM people\n",
        "    JOIN purchases\n",
        "    ON people.id = purchases.person_id\n",
        "    JOIN items\n",
        "    ON items.id = purchases.item_id\n",
        "    GROUP BY people.id\n",
        "    \"\"\"\n",
        ")\n",
        "\n",
        "for row in cursor.execute(query):\n",
        "    print(row)"
      ]
    },
    {
      "cell_type": "markdown",
      "metadata": {
        "id": "h-BaDA-rMT1V"
      },
      "source": [
        "# User input\n",
        "Let's add new people to the database\n",
        "\n",
        "*Note: You may have to actually write some code for the employees to easily add new people to the database*\n"
      ]
    },
    {
      "cell_type": "code",
      "execution_count": 50,
      "metadata": {
        "colab": {
          "base_uri": "https://localhost:8080/"
        },
        "id": "kHfOiGWpZoer",
        "outputId": "9b838128-f279-48b5-9271-5359a4dfec10"
      },
      "outputs": [
        {
          "name": "stdout",
          "output_type": "stream",
          "text": [
            "Enter your data. Enter 'done' to stop\n"
          ]
        }
      ],
      "source": [
        "while True:\n",
        "    print(\"Enter your data. Enter 'done' to stop\")\n",
        "    id = input(\"Enter your id: \")\n",
        "\n",
        "    if id == 'done':\n",
        "        connection.commit()\n",
        "        break\n",
        "    if id.isnumeric() == False:\n",
        "        print(\"Invalid input. Please enter a number\")\n",
        "        continue\n",
        "    first_name = input(\"Enter your first name: \")\n",
        "    last_name = input(\"Enter your last name: \")\n",
        "    cursor.execute(\"INSERT INTO people VALUES (?, ?, ?)\",\n",
        "                   (id, first_name, last_name))\n",
        "\n",
        "# Try:\n",
        "# 1. Adding a person with an id that already exists, which raises an exception (can be handled)\n",
        "# 2. Adding a person with a non-numeric id, which is already handled by continuing the loop\n",
        "# 3. Bobby Tables. You know what I mean"
      ]
    },
    {
      "cell_type": "markdown",
      "metadata": {
        "id": "BAQBf4y-M3Ct"
      },
      "source": [
        "# Let's recheck the data"
      ]
    },
    {
      "cell_type": "code",
      "execution_count": 51,
      "metadata": {
        "colab": {
          "base_uri": "https://localhost:8080/"
        },
        "id": "hhCo_IZWZoer",
        "outputId": "6e35f332-d466-40ab-f0af-086c0be57cbf"
      },
      "outputs": [
        {
          "name": "stdout",
          "output_type": "stream",
          "text": [
            "(1, 'Hitagi', 'Senjougahara')\n",
            "(2, 'Madoka', 'Kaname')\n",
            "(3, 'Tsubasa', 'Hanekawa')\n",
            "(4, 'Mayoi', 'Hachikuji')\n",
            "(5, 'Suruga', 'Kanbaru')\n",
            "(6, 'Nadeko', 'Sengoku')\n",
            "(7, 'Karen', 'Araragi')\n",
            "(8, 'Tsukihi', 'Araragi')\n",
            "(9, 'Shinobu', 'Oshino')\n",
            "(10, 'Meme', 'Oshino')\n",
            "(11, 'Deishu', 'Kaiki')\n",
            "(12, 'Izuko', 'Gaen')\n",
            "(13, 'Yozuru', 'Kagenui')\n",
            "(14, 'Yotsugi', 'Ononoki')\n",
            "(15, 'Ougi', 'Oshino')\n",
            "(16, 'Tooe', 'Gaen')\n",
            "(17, 'John', 'Price')\n",
            "(18, 'Soap', 'MacTavish')\n",
            "(19, 'Simon', 'Riley')\n",
            "(20, 'Kyle', 'Garrick')\n",
            "(21, 'Alejandro', 'Vargas')\n",
            "(22, 'Kate', 'Laswell')\n",
            "(23, 'Miho', 'Nishizumi')\n",
            "(24, 'Saori', 'Takebe')\n",
            "(25, 'Hana', 'Isuzu')\n",
            "(26, 'Yukari', 'Akiyama')\n",
            "(27, 'Mako', 'Reizei')\n",
            "(999, 'Nozomu', 'Itoshiki')\n"
          ]
        }
      ],
      "source": [
        "for row in cursor.execute(\"SELECT * FROM people\"):\n",
        "    print(row)"
      ]
    },
    {
      "cell_type": "markdown",
      "metadata": {
        "id": "5eT6Xu3sM97J"
      },
      "source": [
        "# Close the connection\n",
        "After we're done, we can close the connection"
      ]
    },
    {
      "cell_type": "code",
      "execution_count": 52,
      "metadata": {
        "id": "vi_3U2ElZoes"
      },
      "outputs": [],
      "source": [
        "connection.close()"
      ]
    }
  ],
  "metadata": {
    "colab": {
      "provenance": [],
      "toc_visible": true
    },
    "kernelspec": {
      "display_name": "base",
      "language": "python",
      "name": "python3"
    },
    "language_info": {
      "codemirror_mode": {
        "name": "ipython",
        "version": 3
      },
      "file_extension": ".py",
      "mimetype": "text/x-python",
      "name": "python",
      "nbconvert_exporter": "python",
      "pygments_lexer": "ipython3",
      "version": "3.9.12"
    },
    "orig_nbformat": 4
  },
  "nbformat": 4,
  "nbformat_minor": 0
}
