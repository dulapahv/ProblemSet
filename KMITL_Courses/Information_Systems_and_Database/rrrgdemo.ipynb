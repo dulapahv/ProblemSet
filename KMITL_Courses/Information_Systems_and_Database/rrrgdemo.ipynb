{
 "cells": [
  {
   "attachments": {},
   "cell_type": "markdown",
   "metadata": {},
   "source": [
    "# How to implement SQL in Python via SQLite"
   ]
  },
  {
   "cell_type": "code",
   "execution_count": 79,
   "metadata": {},
   "outputs": [],
   "source": [
    "# @title Just in case you have to run this again\n",
    "import os\n",
    "os.remove(\"data.db\")\n"
   ]
  },
  {
   "cell_type": "code",
   "execution_count": 80,
   "metadata": {},
   "outputs": [],
   "source": [
    "# @title Import SQLite3 module\n",
    "import sqlite3\n"
   ]
  },
  {
   "cell_type": "code",
   "execution_count": 81,
   "metadata": {},
   "outputs": [],
   "source": [
    "# @title Connect to the SQLite database\n",
    "connection = sqlite3.connect('data.db')\n"
   ]
  },
  {
   "cell_type": "code",
   "execution_count": 82,
   "metadata": {},
   "outputs": [],
   "source": [
    "# @title Create a cursor, it's like a pointer to the database\n",
    "cursor = connection.cursor()\n"
   ]
  },
  {
   "cell_type": "code",
   "execution_count": 83,
   "metadata": {},
   "outputs": [
    {
     "data": {
      "text/plain": [
       "<sqlite3.Cursor at 0x1f097f16840>"
      ]
     },
     "execution_count": 83,
     "metadata": {},
     "output_type": "execute_result"
    }
   ],
   "source": [
    "# @title we buildin a simple table\n",
    "create_table = \"CREATE TABLE IF NOT EXISTS people (id integer primary key, first_name text, last_name text)\"\n",
    "cursor.execute(create_table)  # and we have to execute the query\n"
   ]
  },
  {
   "cell_type": "code",
   "execution_count": 84,
   "metadata": {},
   "outputs": [
    {
     "data": {
      "text/plain": [
       "<sqlite3.Cursor at 0x1f097f16840>"
      ]
     },
     "execution_count": 84,
     "metadata": {},
     "output_type": "execute_result"
    }
   ],
   "source": [
    "# @title while we at it, we can also create a table for the items\n",
    "create_table_items = \"CREATE TABLE IF NOT EXISTS items (id integer primary key, name text, price real)\"\n",
    "cursor.execute(create_table_items)\n"
   ]
  },
  {
   "cell_type": "code",
   "execution_count": 85,
   "metadata": {},
   "outputs": [
    {
     "data": {
      "text/plain": [
       "<sqlite3.Cursor at 0x1f097f16840>"
      ]
     },
     "execution_count": 85,
     "metadata": {},
     "output_type": "execute_result"
    }
   ],
   "source": [
    "# @title Let's insert some data into the table\n",
    "insert_hitagi = \"INSERT INTO people VALUES (1, 'Hitagi', 'Senjougahara')\"\n",
    "cursor.execute(insert_hitagi)\n"
   ]
  },
  {
   "cell_type": "code",
   "execution_count": 86,
   "metadata": {},
   "outputs": [
    {
     "data": {
      "text/plain": [
       "<sqlite3.Cursor at 0x1f097f16840>"
      ]
     },
     "execution_count": 86,
     "metadata": {},
     "output_type": "execute_result"
    }
   ],
   "source": [
    "# @title Worst way possible to insert data into the table\n",
    "insert_nozomu = \"INSERT INTO people VALUES ({}, '{}', '{}')\".format(\n",
    "    999, 'Nozomu', 'Itoshiki')\n",
    "cursor.execute(insert_nozomu)  # bobby tables, anyone?\n"
   ]
  },
  {
   "cell_type": "code",
   "execution_count": 87,
   "metadata": {},
   "outputs": [
    {
     "data": {
      "text/plain": [
       "<sqlite3.Cursor at 0x1f097f16840>"
      ]
     },
     "execution_count": 87,
     "metadata": {},
     "output_type": "execute_result"
    }
   ],
   "source": [
    "# @title Safer way to insert data into the table\n",
    "insert = \"INSERT INTO people VALUES (?, ?, ?)\"\n",
    "cursor.execute(insert, (2, 'Madoka', 'Kaname'))\n"
   ]
  },
  {
   "attachments": {},
   "cell_type": "markdown",
   "metadata": {},
   "source": [
    "## Why use that instead of string formatting?\n",
    "\n",
    "![Just don't do that](https://imgs.xkcd.com/comics/exploits_of_a_mom.png \"Bobby Tables\")\n",
    "\n",
    "Ever heard of SQL injection? It's where the user can enter SQL commands into a form and have them executed on the server. This is a huge security risk.\n",
    "If we sanitize the data first and not just shove it into the SQL command, we can avoid this.\n",
    "\n",
    "https://xkcd.com/327/\n",
    "https://bobby-tables.com/python\n",
    "\n",
    "So PLEASE, don't use string formatting to insert data into SQL commands. Use the parameter substitution instead."
   ]
  },
  {
   "cell_type": "code",
   "execution_count": 88,
   "metadata": {},
   "outputs": [],
   "source": [
    "# @title After we insert data, we have to commit it\n",
    "connection.commit()\n",
    "\n",
    "# @markdown If you don't commit, the data won't be saved to the \"database\" (SQLite stores the whole DB in a single file)\n"
   ]
  },
  {
   "cell_type": "code",
   "execution_count": 89,
   "metadata": {},
   "outputs": [
    {
     "name": "stdout",
     "output_type": "stream",
     "text": [
      "(1, 'Hitagi', 'Senjougahara')\n",
      "(2, 'Madoka', 'Kaname')\n",
      "(999, 'Nozomu', 'Itoshiki')\n"
     ]
    }
   ],
   "source": [
    "# @markdown Now, let's retrieve the data from the table\n",
    "select = \"SELECT * FROM people\"\n",
    "for row in cursor.execute(select):\n",
    "    print(row)\n",
    "\n",
    "# @markdown You'll get a list of tuples. Each tuple is a row in the table\n",
    "# @markdown To actually use it, you must write a function to convert it into an object or a dictionary\n",
    "# @markdown Or even better: ORM\n"
   ]
  },
  {
   "cell_type": "code",
   "execution_count": 90,
   "metadata": {},
   "outputs": [],
   "source": [
    "# @title we can insert multiple data into the table with executemany and a list of tuples\n",
    "people = [\n",
    "    (3, 'Tsubasa', 'Hanekawa'),\n",
    "    (4, 'Mayoi', 'Hachikuji'),\n",
    "    (5, 'Suruga', 'Kanbaru'),\n",
    "    (6, 'Nadeko', 'Sengoku'),\n",
    "    (7, 'Karen', 'Araragi'),\n",
    "    (8, 'Tsukihi', 'Araragi'),\n",
    "    (9, 'Shinobu', 'Oshino'),\n",
    "    (10, 'Meme', 'Oshino'),\n",
    "    (11, 'Deishu', 'Kaiki'),\n",
    "    (12, 'Izuko', 'Gaen'),\n",
    "    (13, 'Yozuru', 'Kagenui'),\n",
    "    (14, 'Yotsugi', 'Ononoki'),\n",
    "    (15, 'Ougi', 'Oshino'),\n",
    "    (16, 'Tooe', 'Gaen'),\n",
    "]\n",
    "\n",
    "# we use executemany to insert multiple data. it can read tuples, lists, and dictionaries\n",
    "cursor.executemany(\"INSERT INTO people VALUES (?, ?, ?)\", people)\n",
    "connection.commit()\n"
   ]
  },
  {
   "cell_type": "code",
   "execution_count": 91,
   "metadata": {},
   "outputs": [
    {
     "name": "stdout",
     "output_type": "stream",
     "text": [
      "(1, 'Hitagi', 'Senjougahara')\n",
      "(2, 'Madoka', 'Kaname')\n",
      "(3, 'Tsubasa', 'Hanekawa')\n",
      "(4, 'Mayoi', 'Hachikuji')\n",
      "(5, 'Suruga', 'Kanbaru')\n",
      "(6, 'Nadeko', 'Sengoku')\n",
      "(7, 'Karen', 'Araragi')\n",
      "(8, 'Tsukihi', 'Araragi')\n",
      "(9, 'Shinobu', 'Oshino')\n",
      "(10, 'Meme', 'Oshino')\n",
      "(11, 'Deishu', 'Kaiki')\n",
      "(12, 'Izuko', 'Gaen')\n",
      "(13, 'Yozuru', 'Kagenui')\n",
      "(14, 'Yotsugi', 'Ononoki')\n",
      "(15, 'Ougi', 'Oshino')\n",
      "(16, 'Tooe', 'Gaen')\n",
      "(999, 'Nozomu', 'Itoshiki')\n"
     ]
    }
   ],
   "source": [
    "# @title Now let's see the fruits of our labor\n",
    "\n",
    "select = \"SELECT * FROM people\"\n",
    "for row in cursor.execute(select):\n",
    "    print(row)\n",
    "\n",
    "# ok good\n"
   ]
  },
  {
   "cell_type": "code",
   "execution_count": 92,
   "metadata": {},
   "outputs": [],
   "source": [
    "# @markdown or just use for loops and string formatting. works too\n",
    "# @markdown uhhh.... maybe not string formatting. it's prone to SQL injection.\n",
    "\n",
    "morepeople = [\n",
    "    (17, 'John', 'Price'),  # how'd a muppet like you pass SELECTion?\n",
    "    (18, 'Soap', 'MacTavish'),  # what the hell kind of name is soap?\n",
    "    (19, 'Simon', 'Riley'),  # you ugly? quite the opposite\n",
    "    (20, 'Kyle', 'Garrick'),  # kinda looks like lewis hamilton\n",
    "    (21, 'Alejandro', 'Vargas'),  # mexican trevor philips\n",
    "    (22, 'Kate', 'Laswell'),\n",
    "]\n",
    "\n",
    "for person in morepeople:\n",
    "    cursor.execute(insert, person)\n",
    "\n",
    "connection.commit()\n"
   ]
  },
  {
   "cell_type": "code",
   "execution_count": 93,
   "metadata": {},
   "outputs": [],
   "source": [
    "# @markdown I'll shot you how bad it is to use string formatting\n",
    "anglefish = [\n",
    "    (23, 'Miho', 'Nishizumi'),\n",
    "    (24, 'Saori', 'Takebe'),\n",
    "    (25, 'Hana', 'Isuzu'),\n",
    "    (26, 'Yukari', 'Akiyama'),\n",
    "    (27, 'Mako', 'Reizei'),\n",
    "]\n",
    "\n",
    "for person in anglefish:\n",
    "    # now imagine instead of 'yukari', it's 'yukari'; DROP TABLE people; --\n",
    "    execution = \"INSERT INTO people VALUES ({}, '{}', '{}')\".format(\n",
    "        person[0], person[1], person[2])\n",
    "    cursor.execute(execution)\n",
    "\n",
    "connection.commit()\n"
   ]
  },
  {
   "cell_type": "code",
   "execution_count": 94,
   "metadata": {},
   "outputs": [
    {
     "name": "stdout",
     "output_type": "stream",
     "text": [
      "(7, 'Karen', 'Araragi')\n",
      "(8, 'Tsukihi', 'Araragi')\n",
      "\n",
      "(1, 'Hitagi', 'Senjougahara')\n",
      "(2, 'Madoka', 'Kaname')\n",
      "(3, 'Tsubasa', 'Hanekawa')\n",
      "(4, 'Mayoi', 'Hachikuji')\n",
      "\n",
      "[(17, 'John', 'Price'), (18, 'Soap', 'MacTavish'), (19, 'Simon', 'Riley'), (20, 'Kyle', 'Garrick'), (21, 'Alejandro', 'Vargas'), (22, 'Kate', 'Laswell')]\n",
      "\n",
      "[(17, 'John', 'Price'), (18, 'Soap', 'MacTavish')]\n",
      "(19, 'Simon', 'Riley')\n",
      "(20, 'Kyle', 'Garrick')\n"
     ]
    }
   ],
   "source": [
    "# @title Let's specifically select a person!\n",
    "select_araragi = \"SELECT * FROM people WHERE last_name = 'Araragi'\"\n",
    "for row in cursor.execute(select_araragi):\n",
    "    print(row)  # which are the araragi siblings\n",
    "\n",
    "print()  # the most advanced technology to ever exist: a newline\n",
    "\n",
    "select_lessthanfive = \"SELECT * FROM people WHERE id < 5\"\n",
    "for row in cursor.execute(select_lessthanfive):\n",
    "    print(row)  # which are all girls from monogatari\n",
    "\n",
    "print()\n",
    "\n",
    "# @markdown you can use fetch methods to get the data, like this\n",
    "select_taskforce141 = \"SELECT * FROM people WHERE id < 23 AND id > 16\"\n",
    "cursor.execute(select_taskforce141)\n",
    "# fetchall() returns the whole result set as a list of tuples\n",
    "print(cursor.fetchall())\n",
    "# @markdown if you fetch, the cursor will move to the next row.\n",
    "\n",
    "print()\n",
    "\n",
    "# @markdown for this, we have to execute the query again\n",
    "cursor.execute(select_taskforce141)\n",
    "# fetchmany() returns the first n rows of the result set, in this case, Captain Price and Soap\n",
    "print(cursor.fetchmany(2))\n",
    "# fetchone() returns the first row of the result set, in this case, Ghost\n",
    "print(cursor.fetchone())\n",
    "# fetching again returns the next row, in this case, Gaz\n",
    "print(cursor.fetchone())\n"
   ]
  },
  {
   "cell_type": "code",
   "execution_count": 95,
   "metadata": {},
   "outputs": [],
   "source": [
    "# @title Let's insert some items into the items table\n",
    "\n",
    "items = [\n",
    "    (1, 'Ramen', 100),\n",
    "    (2, 'Bread', 50),\n",
    "    (3, 'Coffee', 150),\n",
    "    (4, 'Tea', 100),\n",
    "    (5, 'Soda', 100),\n",
    "    (6, 'Water', 50),\n",
    "    (7, 'M4A1', 1000),\n",
    "    (8, 'AK-47', 1000),\n",
    "    (9, 'Saiga 12 with Dragon Breath', 7000),\n",
    "    (10, 'B&T APC556 tuned by wzstats.gg', 2500),\n",
    "    (11, 'Gunship Killstreak', 20000),\n",
    "    (12, 'Juggernaut Killstreak', 15000),\n",
    "    (13, 'Tactical Nuke Killstreak', 25000),\n",
    "    (14, 'Love', 2.21),\n",
    "]\n",
    "\n",
    "cursor.executemany(\"INSERT INTO items VALUES (?, ?, ?)\", items)\n",
    "connection.commit()\n"
   ]
  },
  {
   "cell_type": "code",
   "execution_count": 96,
   "metadata": {},
   "outputs": [
    {
     "name": "stdout",
     "output_type": "stream",
     "text": [
      "(1, 'Ramen', 100.0)\n",
      "(2, 'Bread', 50.0)\n",
      "(3, 'Coffee', 150.0)\n",
      "(4, 'Tea', 100.0)\n",
      "(5, 'Soda', 100.0)\n",
      "(6, 'Water', 50.0)\n",
      "(7, 'M4A1', 1000.0)\n",
      "(8, 'AK-47', 1000.0)\n",
      "(9, 'Saiga 12 with Dragon Breath', 7000.0)\n",
      "(10, 'B&T APC556 tuned by wzstats.gg', 2500.0)\n",
      "(11, 'Gunship Killstreak', 20000.0)\n",
      "(12, 'Juggernaut Killstreak', 15000.0)\n",
      "(13, 'Tactical Nuke Killstreak', 25000.0)\n",
      "(14, 'Love', 2.21)\n"
     ]
    }
   ],
   "source": [
    "# @title Let's retrieve the data from the items table\n",
    "select = \"SELECT * FROM items\"\n",
    "for row in cursor.execute(select):\n",
    "    print(row)\n",
    "\n",
    "# ok good now we have a database with some data in it\n"
   ]
  },
  {
   "cell_type": "code",
   "execution_count": 97,
   "metadata": {},
   "outputs": [],
   "source": [
    "# @title Table to store many to many relationship\n",
    "\n",
    "create_table = \"CREATE TABLE IF NOT EXISTS purchases (id integer primary key autoincrement not null, person_id integer, item_id integer, FOREIGN KEY(person_id) REFERENCES people(id), FOREIGN KEY(item_id) REFERENCES items(id))\"\n",
    "cursor.execute(create_table)\n",
    "connection.commit()\n"
   ]
  },
  {
   "cell_type": "code",
   "execution_count": 98,
   "metadata": {},
   "outputs": [],
   "source": [
    "# @title Let's insert some data into the table\n",
    "\n",
    "purchases = [\n",
    "    # hanekawa bought the APC556\n",
    "    (None, 3, 10),  # hanekawa's id is 3, and the APC556's id is 10\n",
    "    # madoka bought the bread\n",
    "    (None, 2, 2),  # madoka's id is 2, and the bread's id is 2\n",
    "    # miho bought the Gunship Killstreak\n",
    "    (None, 23, 11),  # miho's id is 23, and the Gunship Killstreak's id is 11\n",
    "    # captain price is hungry\n",
    "    (None, 17, 1),  # captain price's id is 17, and the ramen's id is 1\n",
    "    # maybe thirsty too\n",
    "    (None, 17, 5),  # captain price's id is 17, and the soda's id is 5\n",
    "    # ghost also craves the ramen\n",
    "    (None, 19, 1),  # ghost's id is 19, and the ramen's id is 1\n",
    "    # and finally, kaiki got the tactical nuke\n",
    "    (None, 11, 13),  # kaiki's id is 11, and the tactical nuke's id is 13\n",
    "    # nah, nadeko also got 25 killstreak\n",
    "    (None, 6, 13),  # nadeko's id is 6, and the tactical nuke's id is 13\n",
    "]\n",
    "\n",
    "cursor.executemany(\"INSERT INTO purchases VALUES (?, ?, ?)\", purchases)\n",
    "connection.commit()  # don't forget to commit\n",
    "\n",
    "# @markdown Note: You may have to actually write some code for the employees to easily log purchases without writing this number that only Alex Mason can understand!\n",
    "\n",
    "# @markdown like this:\n",
    "# @markdown while loop:\n",
    "# @markdown     if input == 'exit': break\n",
    "# @markdown     else: if user input and item input corresponds to an id, insert it into the table\n",
    "# @markdown         else: print 'invalid input' or something idk maybe raise an exception\n"
   ]
  },
  {
   "cell_type": "code",
   "execution_count": 99,
   "metadata": {},
   "outputs": [
    {
     "name": "stdout",
     "output_type": "stream",
     "text": [
      "('John', 'Price')\n",
      "('Simon', 'Riley')\n"
     ]
    }
   ],
   "source": [
    "# @title Let's query some data\n",
    "\n",
    "# @markdown Let's say we want to get the name of the person who bought the ramen\n",
    "\n",
    "query = (\"\"\"SELECT people.first_name, people.last_name\n",
    "                FROM people\n",
    "                JOIN purchases\n",
    "                ON people.id = purchases.person_id\n",
    "                JOIN items\n",
    "                ON items.id = purchases.item_id\n",
    "                WHERE items.name = 'Ramen'\"\"\")  # we use JOIN to join tables together\n",
    "\n",
    "# @markdown Let's go line by line\n",
    "# @markdown SELECT people.first_name, people.last_name: we want to get the first name and last name of the person\n",
    "# @markdown FROM people: from the people table\n",
    "# @markdown JOIN purchases: join the purchases table\n",
    "# @markdown ON people.id = purchases.person_id: where the id of the people table is equal to the person_id of the purchases table\n",
    "# @markdown JOIN items: join the items table\n",
    "# @markdown ON items.id = purchases.item_id: where the id of the items table is equal to the item_id of the purchases table\n",
    "# @markdown WHERE items.name = 'Ramen': where the name of the items table is equal to 'Ramen'\n",
    "# @markdown Note: You can use WHERE items.name LIKE '%Ramen%' to get all items that contains the word 'Ramen'. is regex supported? idk\n",
    "\n",
    "# @markdown Which should be Captain Price and Ghost. Let's print it out\n",
    "\n",
    "for row in cursor.execute(query):\n",
    "    print(row)\n"
   ]
  },
  {
   "cell_type": "code",
   "execution_count": 100,
   "metadata": {},
   "outputs": [
    {
     "name": "stdout",
     "output_type": "stream",
     "text": [
      "('Tsubasa', 'Hanekawa', 'B&T APC556 tuned by wzstats.gg', 2500.0)\n"
     ]
    }
   ],
   "source": [
    "# @markdown Let's say we want the data on Hanekawa's purchase\n",
    "\n",
    "query = (\"\"\"SELECT people.first_name, people.last_name, items.name, items.price\n",
    "            FROM people\n",
    "            JOIN purchases\n",
    "            ON people.id = purchases.person_id\n",
    "            JOIN items\n",
    "            ON items.id = purchases.item_id\n",
    "            WHERE people.first_name = 'Tsubasa'\"\"\")\n",
    "\n",
    "# @markdown Let's go line by line\n",
    "# @markdown SELECT people.first_name, people.last_name, items.name, items.price: we want to get the first name, last name, item name, and item price\n",
    "# @markdown FROM people: from the people table\n",
    "# @markdown JOIN purchases: join the purchases table\n",
    "# @markdown ON people.id = purchases.person_id: where the id of the people table is equal to the person_id of the purchases table\n",
    "# @markdown JOIN items: join the items table\n",
    "# @markdown ON items.id = purchases.item_id: where the id of the items table is equal to the item_id of the purchases table\n",
    "# @markdown WHERE people.first_name = 'Hanekawa': where the first name of the people table is equal to 'Hanekawa'\n",
    "\n",
    "# @markdown Which should be the APC556. Let's print it out\n",
    "\n",
    "cursor.execute(query)\n",
    "print(cursor.fetchone())  # we only want one row, so we use fetchone()\n",
    "\n",
    "# @markdown Don't worry, the SQL query coder would eventually be replaced by an AI.\n",
    "# @markdown Terminator, Deus Ex, Detroit: Become Human, Girls' Frontline and Cyberpunk 2077. What do they have in common?\n"
   ]
  },
  {
   "cell_type": "code",
   "execution_count": 101,
   "metadata": {},
   "outputs": [
    {
     "name": "stdout",
     "output_type": "stream",
     "text": [
      "('Madoka', 'Kaname', 50.0)\n",
      "('Tsubasa', 'Hanekawa', 2500.0)\n",
      "('Nadeko', 'Sengoku', 25000.0)\n",
      "('Deishu', 'Kaiki', 25000.0)\n",
      "('John', 'Price', 200.0)\n",
      "('Simon', 'Riley', 100.0)\n",
      "('Miho', 'Nishizumi', 20000.0)\n"
     ]
    }
   ],
   "source": [
    "# @title Let's say we want to get the total amount of money spent by each person\n",
    "\n",
    "query = (\"\"\"SELECT people.first_name, people.last_name, SUM(items.price)\n",
    "            FROM people\n",
    "            JOIN purchases\n",
    "            ON people.id = purchases.person_id\n",
    "            JOIN items\n",
    "            ON items.id = purchases.item_id\n",
    "            GROUP BY people.id\"\"\")\n",
    "\n",
    "# @markdown Let's go line by line\n",
    "# @markdown SELECT people.first_name, people.last_name, SUM(items.price): we want to get the first name, last name, and the sum of the price of all items bought by the person\n",
    "# @markdown FROM people: from the people table\n",
    "# @markdown JOIN purchases: join the purchases table\n",
    "# @markdown ON people.id = purchases.person_id: where the id of the people table is equal to the person_id of the purchases table\n",
    "# @markdown JOIN items: join the items table\n",
    "# @markdown ON items.id = purchases.item_id: where the id of the items table is equal to the item_id of the purchases table\n",
    "# @markdown GROUP BY people.id: group the data by the id of the people table\n",
    "\n",
    "for row in cursor.execute(query):\n",
    "    print(row)\n",
    "\n",
    "# @markdown Note that Yukari doesn't have any purchases, so her total amount spent is 0, and she's not included in the result\n"
   ]
  },
  {
   "cell_type": "code",
   "execution_count": 102,
   "metadata": {},
   "outputs": [
    {
     "name": "stdout",
     "output_type": "stream",
     "text": [
      "Enter your data. Enter 'done' to stop\n",
      "Invalid input. Please enter a number\n",
      "Enter your data. Enter 'done' to stop\n"
     ]
    }
   ],
   "source": [
    "# @title Time for user input!\n",
    "\n",
    "# @markdown Let's add new people to the database\n",
    "\n",
    "# @markdown Note: You may have to actually write some code for the employees to easily add new people to the database\n",
    "\n",
    "while True:\n",
    "    print(\"Enter your data. Enter 'done' to stop\")\n",
    "    id = input(\"Enter your id: \")\n",
    "\n",
    "    if id == 'done':\n",
    "        connection.commit()\n",
    "        break\n",
    "    if id.isnumeric() == False:  # be robust!\n",
    "        print(\"Invalid input. Please enter a number\")\n",
    "        continue\n",
    "    first_name = input(\"Enter your first name: \")\n",
    "    last_name = input(\"Enter your last name: \")\n",
    "    cursor.execute(\"INSERT INTO people VALUES (?, ?, ?)\",\n",
    "                   (id, first_name, last_name))\n",
    "\n",
    "# @markdown Try:\n",
    "# @markdown 1. Adding a person with an id that already exists, which raises an exception (can be handled)\n",
    "# @markdown 2. Adding a person with a non-numeric id, which i already handled by continuing the loop\n",
    "# @markdown 3. Bobby Tables. You know what I mean\n"
   ]
  },
  {
   "cell_type": "code",
   "execution_count": 103,
   "metadata": {},
   "outputs": [
    {
     "name": "stdout",
     "output_type": "stream",
     "text": [
      "(1, 'Hitagi', 'Senjougahara')\n",
      "(2, 'Madoka', 'Kaname')\n",
      "(3, 'Tsubasa', 'Hanekawa')\n",
      "(4, 'Mayoi', 'Hachikuji')\n",
      "(5, 'Suruga', 'Kanbaru')\n",
      "(6, 'Nadeko', 'Sengoku')\n",
      "(7, 'Karen', 'Araragi')\n",
      "(8, 'Tsukihi', 'Araragi')\n",
      "(9, 'Shinobu', 'Oshino')\n",
      "(10, 'Meme', 'Oshino')\n",
      "(11, 'Deishu', 'Kaiki')\n",
      "(12, 'Izuko', 'Gaen')\n",
      "(13, 'Yozuru', 'Kagenui')\n",
      "(14, 'Yotsugi', 'Ononoki')\n",
      "(15, 'Ougi', 'Oshino')\n",
      "(16, 'Tooe', 'Gaen')\n",
      "(17, 'John', 'Price')\n",
      "(18, 'Soap', 'MacTavish')\n",
      "(19, 'Simon', 'Riley')\n",
      "(20, 'Kyle', 'Garrick')\n",
      "(21, 'Alejandro', 'Vargas')\n",
      "(22, 'Kate', 'Laswell')\n",
      "(23, 'Miho', 'Nishizumi')\n",
      "(24, 'Saori', 'Takebe')\n",
      "(25, 'Hana', 'Isuzu')\n",
      "(26, 'Yukari', 'Akiyama')\n",
      "(27, 'Mako', 'Reizei')\n",
      "(999, 'Nozomu', 'Itoshiki')\n"
     ]
    }
   ],
   "source": [
    "# @ Let's recheck the data\n",
    "\n",
    "for row in cursor.execute(\"SELECT * FROM people\"):\n",
    "    print(row)\n"
   ]
  },
  {
   "cell_type": "code",
   "execution_count": 104,
   "metadata": {},
   "outputs": [],
   "source": [
    "# @title After we're done, we can close the connection\n",
    "\n",
    "connection.close()\n"
   ]
  }
 ],
 "metadata": {
  "kernelspec": {
   "display_name": "base",
   "language": "python",
   "name": "python3"
  },
  "language_info": {
   "codemirror_mode": {
    "name": "ipython",
    "version": 3
   },
   "file_extension": ".py",
   "mimetype": "text/x-python",
   "name": "python",
   "nbconvert_exporter": "python",
   "pygments_lexer": "ipython3",
   "version": "3.11.3"
  },
  "orig_nbformat": 4
 },
 "nbformat": 4,
 "nbformat_minor": 2
}
