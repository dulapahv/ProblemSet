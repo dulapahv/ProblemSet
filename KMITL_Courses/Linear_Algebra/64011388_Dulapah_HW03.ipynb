{
 "cells": [
  {
   "cell_type": "code",
   "execution_count": 1,
   "metadata": {},
   "outputs": [
    {
     "name": "stdout",
     "output_type": "stream",
     "text": [
      "\n",
      "A = \n",
      " [[2 4 8]\n",
      " [2 2 8]\n",
      " [6 7 4]]\n",
      "\n",
      "E = \n",
      " [[ 1.   0.   0. ]\n",
      " [-1.   1.   0. ]\n",
      " [-0.5 -2.5  1. ]]\n",
      "\n",
      "EA = \n",
      " [[  2.   4.   8.]\n",
      " [  0.  -2.   0.]\n",
      " [  0.   0. -20.]]\n"
     ]
    }
   ],
   "source": [
    "import numpy as np\n",
    "\n",
    "\n",
    "def mat_randint(s):\n",
    "    return np.random.randint(low=1, high=9, size=(s, s))\n",
    "\n",
    "\n",
    "def mat_elim(A):\n",
    "    E1 = np.eye(A.shape[0])\n",
    "    E1[1, 0] = -A[1, 0] / A[0, 0]\n",
    "    A1 = E1 @ A\n",
    "\n",
    "    E2 = np.eye(A.shape[0])\n",
    "    E2[2, 0] = -A1[2, 0] / A1[0, 0]\n",
    "    A2 = E2 @ A1\n",
    "\n",
    "    E3 = np.eye(A.shape[0])\n",
    "    E3[2, 1] = -A2[2, 1] / A2[1, 1]\n",
    "    A3 = E3 @ A2\n",
    "\n",
    "    return E3 @ (E2 @ E1)\n",
    "\n",
    "\n",
    "A = mat_randint(3)\n",
    "print(\"\\nA = \\n\", A)\n",
    "E = mat_elim(A)\n",
    "print(\"\\nE = \\n\", E)\n",
    "print(\"\\nEA = \\n\", np.around(E @ A, 3))\n"
   ]
  }
 ],
 "metadata": {
  "kernelspec": {
   "display_name": "Python 3.10.2 64-bit",
   "language": "python",
   "name": "python3"
  },
  "language_info": {
   "codemirror_mode": {
    "name": "ipython",
    "version": 3
   },
   "file_extension": ".py",
   "mimetype": "text/x-python",
   "name": "python",
   "nbconvert_exporter": "python",
   "pygments_lexer": "ipython3",
   "version": "3.10.6"
  },
  "orig_nbformat": 4,
  "vscode": {
   "interpreter": {
    "hash": "4adce72273552676f6ca14a0695d1dabca2b5c39ed8c19adc6119f88e35eff30"
   }
  }
 },
 "nbformat": 4,
 "nbformat_minor": 2
}
