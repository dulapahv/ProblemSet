{
 "cells": [
  {
   "cell_type": "code",
   "execution_count": 50,
   "metadata": {},
   "outputs": [
    {
     "name": "stdout",
     "output_type": "stream",
     "text": [
      "\n",
      "A = \n",
      " [[1 1 8]\n",
      " [5 1 3]\n",
      " [7 6 6]]\n",
      "\n",
      "E = \n",
      " [[ 1.00000000e+00  0.00000000e+00  0.00000000e+00]\n",
      " [-2.22044605e-16  1.00000000e+00  0.00000000e+00]\n",
      " [ 2.77555756e-17  0.00000000e+00  1.00000000e+00]]\n",
      "\n",
      "EA = \n",
      " [[1. 1. 8.]\n",
      " [5. 1. 3.]\n",
      " [7. 6. 6.]]\n"
     ]
    }
   ],
   "source": [
    "import numpy as np\n",
    "\n",
    "\n",
    "def mat_randint(s):\n",
    "    return np.random.randint(low=1, high=9, size=(s, s))\n",
    "\n",
    "\n",
    "def mat_elim(A):\n",
    "\treturn np.linalg.inv(A) @ A\n",
    "\n",
    "\n",
    "# A = mat_randint(3)\n",
    "A = np.array([[1, 1, 8],\n",
    "              [5, 1, 3],\n",
    "              [7, 6, 6]])\n",
    "print(\"\\nA = \\n\", A)\n",
    "E = mat_elim(A)\n",
    "print(\"\\nE = \\n\", E)\n",
    "print(\"\\nEA = \\n\", np.around(E @ A, 3))\n"
   ]
  }
 ],
 "metadata": {
  "kernelspec": {
   "display_name": "Python 3.10.2 64-bit",
   "language": "python",
   "name": "python3"
  },
  "language_info": {
   "codemirror_mode": {
    "name": "ipython",
    "version": 3
   },
   "file_extension": ".py",
   "mimetype": "text/x-python",
   "name": "python",
   "nbconvert_exporter": "python",
   "pygments_lexer": "ipython3",
   "version": "3.10.2"
  },
  "orig_nbformat": 4,
  "vscode": {
   "interpreter": {
    "hash": "4adce72273552676f6ca14a0695d1dabca2b5c39ed8c19adc6119f88e35eff30"
   }
  }
 },
 "nbformat": 4,
 "nbformat_minor": 2
}
