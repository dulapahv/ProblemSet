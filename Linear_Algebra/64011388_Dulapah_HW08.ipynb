{
 "cells": [
  {
   "cell_type": "code",
   "execution_count": 4,
   "metadata": {},
   "outputs": [
    {
     "name": "stdout",
     "output_type": "stream",
     "text": [
      "[0 1 2 3 4 5 6 7 8 9]\n",
      "[ 10.6  64.7 109.6 132.1 142.2 141.5 138.6 138.1  97.8  74.5]\n",
      "y = 16.794545 + 52.196818 t  -5.147727 t^2\n"
     ]
    },
    {
     "data": {
      "image/png": "[encoded data removed]",
      "text/plain": [
       "<Figure size 432x288 with 1 Axes>"
      ]
     },
     "metadata": {
      "needs_background": "light"
     },
     "output_type": "display_data"
    }
   ],
   "source": [
    "import numpy as np\n",
    "import matplotlib.pyplot as plt\n",
    "\n",
    "\n",
    "def parabola(t, y):\n",
    "    \"\"\"\n",
    "    t = [0 1 2 3 4 5 6 7 8 9]\n",
    "    t ** 2 = [0 1 4 9 16 25 36 49 64 81]\n",
    "\n",
    "    np.vstack([t ** 2, t, np.ones(len(t))]) =\n",
    "    [[ 0.  1.  4.  9. 16. 25. 36. 49. 64. 81.]\n",
    "    [ 0.  1.  2.  3.  4.  5.  6.  7.  8.  9.]\n",
    "    [ 1.  1.  1.  1.  1.  1.  1.  1.  1.  1.]]\n",
    "\n",
    "    np.vstack([t ** 2, t, np.ones(len(t))]).T = \n",
    "    [[ 0.  0.  1.]\n",
    "    [ 1.  1.  1.]\n",
    "    [ 4.  2.  1.]\n",
    "    [ 9.  3.  1.]\n",
    "    [16.  4.  1.]\n",
    "    [25.  5.  1.]\n",
    "    [36.  6.  1.]\n",
    "    [49.  7.  1.]\n",
    "    [64.  8.  1.]\n",
    "    [81.  9.  1.]]\n",
    "\n",
    "    np.linalg.lstsq(A, y, rcond=None)[0].round(6)\n",
    "    array([-5.265909 53.785303 10.954545])\n",
    "    \"\"\"\n",
    "    A = np.vstack([t ** 2, t, np.ones(len(t))]).T\n",
    "    a, b, c = np.linalg.lstsq(A, y, rcond=None)[0].round(6)\n",
    "    print(f\"y = {c} {'+' if b >= 0 else ''} {b} t {'+' if a >= 0 else ''} {a} t^2\")\n",
    "\n",
    "    plt.plot(t, y, 'o')\n",
    "    plt.plot(t, y0 + v0*t - 9.8/2 * t**2, 'r-')\n",
    "    # plt.show()\n",
    "\n",
    "\n",
    "t = np.arange(10)\n",
    "y0 = 20\n",
    "v0 = 50\n",
    "dy = np.random.randint(-50, 50, 10)/5\n",
    "y = y0 + v0*t - 9.8/2 * t**2 + dy\n",
    "print(t)\n",
    "print(y)\n",
    "\n",
    "parabola(t, y)\n"
   ]
  }
 ],
 "metadata": {
  "kernelspec": {
   "display_name": "Python 3.10.7 64-bit",
   "language": "python",
   "name": "python3"
  },
  "language_info": {
   "codemirror_mode": {
    "name": "ipython",
    "version": 3
   },
   "file_extension": ".py",
   "mimetype": "text/x-python",
   "name": "python",
   "nbconvert_exporter": "python",
   "pygments_lexer": "ipython3",
   "version": "3.10.7"
  },
  "orig_nbformat": 4,
  "vscode": {
   "interpreter": {
    "hash": "4adce72273552676f6ca14a0695d1dabca2b5c39ed8c19adc6119f88e35eff30"
   }
  }
 },
 "nbformat": 4,
 "nbformat_minor": 2
}
