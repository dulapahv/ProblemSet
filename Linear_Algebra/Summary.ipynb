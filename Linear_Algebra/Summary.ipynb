{
 "cells": [
  {
   "cell_type": "markdown",
   "metadata": {},
   "source": [
    "------\n",
    "# Numpy"
   ]
  },
  {
   "cell_type": "markdown",
   "metadata": {},
   "source": [
    "## Array Addition\n"
   ]
  },
  {
   "cell_type": "code",
   "execution_count": 10,
   "metadata": {
    "notebookRunGroups": {
     "groupValue": ""
    }
   },
   "outputs": [
    {
     "data": {
      "text/plain": [
       "[1, 2, 3, 4, 5, 6]"
      ]
     },
     "execution_count": 10,
     "metadata": {},
     "output_type": "execute_result"
    }
   ],
   "source": [
    "e = [1, 2, 3]\n",
    "f = [4, 5, 6]\n",
    "e + f\n"
   ]
  },
  {
   "cell_type": "markdown",
   "metadata": {},
   "source": [
    "## Array Multiplication\n"
   ]
  },
  {
   "cell_type": "code",
   "execution_count": 11,
   "metadata": {},
   "outputs": [
    {
     "data": {
      "text/plain": [
       "[1, 2, 3, 1, 2, 3, 1, 2, 3]"
      ]
     },
     "execution_count": 11,
     "metadata": {},
     "output_type": "execute_result"
    }
   ],
   "source": [
    "e = [1, 2, 3]\n",
    "e*3\n"
   ]
  },
  {
   "cell_type": "markdown",
   "metadata": {},
   "source": [
    "## Creating Numpy Array\n",
    "\n",
    "-   pip install numpy\n"
   ]
  },
  {
   "cell_type": "code",
   "execution_count": 12,
   "metadata": {},
   "outputs": [
    {
     "name": "stdout",
     "output_type": "stream",
     "text": [
      "[1 2 3]\n",
      "[4 5 6]\n"
     ]
    }
   ],
   "source": [
    "import numpy as np\n",
    "\n",
    "e = [1, 2, 3]\n",
    "f = [4, 5, 6]\n",
    "\n",
    "v1 = np.array(e)\n",
    "v2 = np.array(f)\n",
    "\n",
    "print(v1)\n",
    "print(v2)\n"
   ]
  },
  {
   "cell_type": "markdown",
   "metadata": {},
   "source": [
    "## Linear Combination\n"
   ]
  },
  {
   "cell_type": "code",
   "execution_count": 13,
   "metadata": {},
   "outputs": [
    {
     "name": "stdout",
     "output_type": "stream",
     "text": [
      "[5 7 9]\n",
      "[3 6 9]\n",
      "[2.5 3.5 4.5]\n"
     ]
    }
   ],
   "source": [
    "import numpy as np\n",
    "\n",
    "e = [1, 2, 3]\n",
    "\n",
    "v1 = np.array(e)\n",
    "v2 = np.array([4, 5, 6])\n",
    "\n",
    "print(v1 + v2)\n",
    "print(3 * v1)\n",
    "print((0.5 * v1) + (0.5 * v2))\n"
   ]
  },
  {
   "cell_type": "markdown",
   "metadata": {},
   "source": [
    "> Because array must also have the same shape (same array size), we can define a function to check the shape before adding.\n"
   ]
  },
  {
   "cell_type": "code",
   "execution_count": 14,
   "metadata": {},
   "outputs": [
    {
     "data": {
      "text/plain": [
       "array([5, 7, 9])"
      ]
     },
     "execution_count": 14,
     "metadata": {},
     "output_type": "execute_result"
    }
   ],
   "source": [
    "import numpy as np\n",
    "\n",
    "\n",
    "def add_vec(v1, v2):\n",
    "    if len(v1) == len(v2):\n",
    "        return v1+v2\n",
    "    else:\n",
    "        return \"error: vectors must be in the same size\"\n",
    "\n",
    "\n",
    "e = [1, 2, 3]\n",
    "f = [4, 5, 6]\n",
    "\n",
    "v1 = np.array(e)\n",
    "v2 = np.array(f)\n",
    "\n",
    "add_vec(v1, v2)\n"
   ]
  },
  {
   "cell_type": "markdown",
   "metadata": {},
   "source": [
    "------\n",
    "# Vectors"
   ]
  },
  {
   "cell_type": "markdown",
   "metadata": {},
   "source": [
    "## Dot Product\n"
   ]
  },
  {
   "cell_type": "code",
   "execution_count": 15,
   "metadata": {},
   "outputs": [
    {
     "name": "stdout",
     "output_type": "stream",
     "text": [
      "10\n",
      "10\n",
      "10\n"
     ]
    }
   ],
   "source": [
    "import numpy as np\n",
    "\n",
    "v1 = np.array([1, 3])\n",
    "v2 = np.array([4, 2])\n",
    "\n",
    "print(np.dot(v1, v2))\n",
    "print(v1 @ v2)\n",
    "print(np.matmul(v1, v2))\n"
   ]
  },
  {
   "cell_type": "markdown",
   "metadata": {},
   "source": [
    "## Length of Vector\n"
   ]
  },
  {
   "cell_type": "code",
   "execution_count": 63,
   "metadata": {},
   "outputs": [
    {
     "name": "stdout",
     "output_type": "stream",
     "text": [
      "3.1622776601683795\n",
      "3.1622776601683795\n",
      "3.1622776601683795\n"
     ]
    }
   ],
   "source": [
    "import numpy as np\n",
    "\n",
    "v1 = np.array([1, 3])\n",
    "\n",
    "print(np.sqrt(v1 @ v1))\n",
    "print((v1 @ v1) ** 0.5)\n",
    "print(np.linalg.norm(v1))\n"
   ]
  },
  {
   "cell_type": "markdown",
   "metadata": {},
   "source": [
    "## Unit Vector\n"
   ]
  },
  {
   "cell_type": "code",
   "execution_count": 17,
   "metadata": {},
   "outputs": [
    {
     "name": "stdout",
     "output_type": "stream",
     "text": [
      "[0.31622777 0.9486833 ]\n"
     ]
    }
   ],
   "source": [
    "import numpy as np\n",
    "\n",
    "v1 = np.array([1, 3])\n",
    "\n",
    "print(v1 / np.linalg.norm(v1))\n"
   ]
  },
  {
   "cell_type": "markdown",
   "metadata": {},
   "source": [
    "## Angle Between Vectors\n"
   ]
  },
  {
   "cell_type": "code",
   "execution_count": 18,
   "metadata": {},
   "outputs": [
    {
     "name": "stdout",
     "output_type": "stream",
     "text": [
      "45.00000000000001\n",
      "0.7853981633974484\n"
     ]
    }
   ],
   "source": [
    "import numpy as np\n",
    "\n",
    "v1 = np.array([1, 3])\n",
    "v2 = np.array([4, 2])\n",
    "\n",
    "u1 = v1/np.linalg.norm(v1)\n",
    "u2 = v2/np.linalg.norm(v2)\n",
    "\n",
    "angleDeg = np.arccos(u1 @ u2) * 180 / np.pi\n",
    "angleRad = np.arccos(u1 @ u2)\n",
    "print(angleDeg)\n",
    "print(angleRad)\n"
   ]
  },
  {
   "cell_type": "markdown",
   "metadata": {},
   "source": [
    "------\n",
    "# Matrices"
   ]
  },
  {
   "cell_type": "markdown",
   "metadata": {},
   "source": [
    "## Matrix Combination"
   ]
  },
  {
   "cell_type": "code",
   "execution_count": 19,
   "metadata": {},
   "outputs": [
    {
     "name": "stdout",
     "output_type": "stream",
     "text": [
      "[[ 5  7]\n",
      " [ 9 11]]\n",
      "[[ 5  7]\n",
      " [ 9 11]] \n",
      "\n",
      "[[-3 -3]\n",
      " [-3 -3]]\n",
      "[[-3 -3]\n",
      " [-3 -3]] \n",
      "\n"
     ]
    }
   ],
   "source": [
    "import numpy as np\n",
    "\n",
    "v = np.array([1, 0])\n",
    "A = np.array([[1, 2], [3, 4]])\n",
    "B = np.array([[4, 5], [6, 7]])\n",
    "\n",
    "print(np.add(A, B))\n",
    "print(A + B, \"\\n\")\n",
    "print(np.subtract(A, B))\n",
    "print(A - B, \"\\n\")\n"
   ]
  },
  {
   "cell_type": "code",
   "execution_count": 20,
   "metadata": {},
   "outputs": [
    {
     "name": "stdout",
     "output_type": "stream",
     "text": [
      "[[16 19]\n",
      " [36 43]]\n",
      "[[16 19]\n",
      " [36 43]]\n",
      "[[16 19]\n",
      " [36 43]]\n"
     ]
    }
   ],
   "source": [
    "import numpy as np\n",
    "\n",
    "v = np.array([1, 0])\n",
    "A = np.array([[1, 2],\n",
    "              [3, 4]])\n",
    "B = np.array([[4, 5],\n",
    "              [6, 7]])\n",
    "\n",
    "print(np.matmul(A, B))\n",
    "print(A @ B)\n",
    "print(np.dot(A, B))\n"
   ]
  },
  {
   "cell_type": "markdown",
   "metadata": {},
   "source": [
    "## Matrix Inverse"
   ]
  },
  {
   "cell_type": "code",
   "execution_count": 21,
   "metadata": {},
   "outputs": [
    {
     "name": "stdout",
     "output_type": "stream",
     "text": [
      "[[-2.   1. ]\n",
      " [ 1.5 -0.5]]\n"
     ]
    }
   ],
   "source": [
    "import numpy as np\n",
    "\n",
    "A = np.array([[1, 2],\n",
    "              [3, 4]])\n",
    "\n",
    "print(np.linalg.inv(A))"
   ]
  },
  {
   "cell_type": "markdown",
   "metadata": {},
   "source": [
    "## Solving Linear Equations\n",
    "\n",
    "System of Equation Ax=b\n",
    "\n",
    "The matrix form of a linear system is Ax=b\n",
    "- A is the coefficient\n",
    "- x is the vector of unknown\n",
    "- b is the vector of right hand side\n",
    "\n",
    "So, x = (A^-1)b"
   ]
  },
  {
   "cell_type": "markdown",
   "metadata": {},
   "source": [
    "### Numpy solve() Function"
   ]
  },
  {
   "cell_type": "code",
   "execution_count": 22,
   "metadata": {},
   "outputs": [
    {
     "name": "stdout",
     "output_type": "stream",
     "text": [
      "[[-1.]\n",
      " [ 2.]\n",
      " [ 2.]]\n"
     ]
    }
   ],
   "source": [
    "import numpy as np\n",
    "\n",
    "A = np.array([[2, 4, -2],\n",
    "              [4, 9, -3],\n",
    "              [-2, -3, 7]])\n",
    "b = np.array([[2],\n",
    "              [8],\n",
    "              [10]])\n",
    "\n",
    "print(np.linalg.solve(A, b))"
   ]
  },
  {
   "cell_type": "markdown",
   "metadata": {},
   "source": [
    "### Inverse Method"
   ]
  },
  {
   "cell_type": "code",
   "execution_count": 23,
   "metadata": {},
   "outputs": [
    {
     "name": "stdout",
     "output_type": "stream",
     "text": [
      "[[-1.]\n",
      " [ 2.]\n",
      " [ 2.]]\n"
     ]
    }
   ],
   "source": [
    "import numpy as np\n",
    "\n",
    "A = np.array([[2, 4, -2],\n",
    "              [4, 9, -3],\n",
    "              [-2, -3, 7]])\n",
    "b = np.array([[2],\n",
    "              [8],\n",
    "              [10]])\n",
    "\n",
    "print(np.linalg.inv(A).dot(b))\n"
   ]
  },
  {
   "cell_type": "markdown",
   "metadata": {},
   "source": [
    "### Cramer's Rule / Determinant Method"
   ]
  },
  {
   "cell_type": "code",
   "execution_count": 24,
   "metadata": {},
   "outputs": [
    {
     "name": "stdout",
     "output_type": "stream",
     "text": [
      "detA = 2.0\n",
      "\n",
      "A1 =\n",
      "[[ 9 -2  3]\n",
      " [-4  3  0]\n",
      " [17 -5  5]]\n",
      "\n",
      "A2 =\n",
      "[[ 1  9  3]\n",
      " [-1 -4  0]\n",
      " [ 2 17  5]]\n",
      "\n",
      "A3 =\n",
      "[[ 1 -2  9]\n",
      " [-1  3 -4]\n",
      " [ 2 -5 17]]\n",
      "\n",
      "detA1 = 2.0\n",
      "detA2 = -2.0\n",
      "detA3 = 4.0\n",
      "\n",
      "x = 1.0\n",
      "y = -1.0\n",
      "z = 2.0\n",
      "\n",
      "sol =\n",
      " [ 1. -1.  2.]\n"
     ]
    }
   ],
   "source": [
    "import numpy as np\n",
    "\n",
    "A = np.array([[1, -2, 3],\n",
    "              [-1, 3, 0],\n",
    "              [2, -5, 5]])\n",
    "b = np.array([[9],\n",
    "              [-4],\n",
    "              [17]])\n",
    "\n",
    "detA = round(np.linalg.det(A), 3)\n",
    "print(f\"{detA = }\\n\")\n",
    "if (detA == 0):\n",
    "    print(\"The matrix is singular\")\n",
    "else:\n",
    "    A1, A2, A3 = A.copy(), A.copy(), A.copy()\n",
    "\n",
    "    for i in range(3):\n",
    "        A1[i][0] = b[i]\n",
    "        A2[i][1] = b[i]\n",
    "        A3[i][2] = b[i]\n",
    "    print(f\"A1 =\\n{A1}\\n\")\n",
    "    print(f\"A2 =\\n{A2}\\n\")\n",
    "    print(f\"A3 =\\n{A3}\\n\")\n",
    "\n",
    "    detA1 = round(np.linalg.det(A1), 3)\n",
    "    detA2 = round(np.linalg.det(A2), 3)\n",
    "    detA3 = round(np.linalg.det(A3), 3)\n",
    "\n",
    "    print(f\"{detA1 = }\")\n",
    "    print(f\"{detA2 = }\")\n",
    "    print(f\"{detA3 = }\\n\")\n",
    "\n",
    "    x = detA1 / detA\n",
    "    y = detA2 / detA\n",
    "    z = detA3 / detA\n",
    "    print(f\"{x = }\")\n",
    "    print(f\"{y = }\")\n",
    "    print(f\"{z = }\\n\")\n",
    "\n",
    "    sol = np.array([x, y, z])\n",
    "\n",
    "    print(f\"sol =\\n {sol}\")\n"
   ]
  },
  {
   "cell_type": "markdown",
   "metadata": {},
   "source": [
    "### Gaussian Elimination"
   ]
  },
  {
   "cell_type": "code",
   "execution_count": 50,
   "metadata": {},
   "outputs": [
    {
     "name": "stdout",
     "output_type": "stream",
     "text": [
      "A =\n",
      "[[ 1 -2  3]\n",
      " [-1  3  0]\n",
      " [ 2 -5  5]]\n",
      "\n",
      "b =\n",
      "[[ 9]\n",
      " [-4]\n",
      " [17]]\n",
      "\n",
      "Forward Elimination\n",
      "A =\n",
      "[[ 1 -2  3]\n",
      " [ 0  1  3]\n",
      " [ 0 -1 -1]]\n",
      "\n",
      "A =\n",
      "[[ 1 -2  3]\n",
      " [ 0  1  3]\n",
      " [ 0  0  2]]\n",
      "\n",
      "Back Substitution\n",
      "x =\n",
      "[-75.5 -29.5   8.5]\n",
      "\n"
     ]
    }
   ],
   "source": [
    "import numpy as np\n",
    "\n",
    "A = np.array([[1, -2, 3],\n",
    "\t\t\t  [-1, 3, 0],\n",
    "\t\t\t  [2, -5, 5]])\n",
    "b = np.array([[9],\n",
    "\t\t\t  [-4],\n",
    "\t\t\t  [17]])\n",
    "\n",
    "print(f\"A =\\n{A}\\n\")\n",
    "print(f\"b =\\n{b}\\n\")\n",
    "\n",
    "print(\"Forward Elimination\")\n",
    "A[1] = A[1] - (A[1][0] / A[0][0]) * A[0] # row 2 = row 2 - (row 2 / row 1) * row 1\n",
    "A[2] = A[2] - (A[2][0] / A[0][0]) * A[0] # row 3 = row 3 - (row 3 / row 1) * row 1\n",
    "print(f\"A =\\n{A}\\n\")\n",
    "\n",
    "A[2] = A[2] - (A[2][1] / A[1][1]) * A[1] # row 3 = row 3 - (row 3 / row 2) * row 2\n",
    "print(f\"A =\\n{A}\\n\")\n",
    "\n",
    "print(\"Back Substitution\")\n",
    "x = np.zeros(3)\n",
    "x[2] = b[2] / A[2][2] # x3 = b3 / a33\n",
    "x[1] = (b[1] - A[1][2] * x[2]) / A[1][1] # x2 = (b2 - a32 * x3) / a22\n",
    "x[0] = ((b[0] - (A[0][1] * x[1])) - (A[0][2] * x[2])) / A[0][0] # x1 = ((b1 - (a21 * x2)) - (a31 * x3)) / a11\n",
    "print(f\"x =\\n{x}\\n\")"
   ]
  },
  {
   "cell_type": "markdown",
   "metadata": {},
   "source": [
    "## Decimal Places Precision"
   ]
  },
  {
   "cell_type": "code",
   "execution_count": 25,
   "metadata": {},
   "outputs": [
    {
     "name": "stdout",
     "output_type": "stream",
     "text": [
      "[[ 0.1429  0.2857  0.4286]\n",
      " [ 0.2857  0.7143  0.2857]\n",
      " [ 0.8571 -0.4286  0.1429]]\n"
     ]
    }
   ],
   "source": [
    "import numpy as np\n",
    "\n",
    "np.set_printoptions(precision=4)\n",
    "\n",
    "A = np.array([[1, 2, 3],\n",
    "              [2, 5, 2],\n",
    "              [6, -3, 1]])\n",
    "\n",
    "print(A / 7)\n"
   ]
  },
  {
   "cell_type": "markdown",
   "metadata": {},
   "source": [
    "## Identity Matrix"
   ]
  },
  {
   "cell_type": "code",
   "execution_count": 26,
   "metadata": {},
   "outputs": [
    {
     "name": "stdout",
     "output_type": "stream",
     "text": [
      "[[1. 0. 0.]\n",
      " [0. 1. 0.]\n",
      " [0. 0. 1.]]\n"
     ]
    }
   ],
   "source": [
    "import numpy as np\n",
    "\n",
    "I = np.eye(3)\n",
    "print(I)"
   ]
  },
  {
   "cell_type": "markdown",
   "metadata": {},
   "source": [
    "## Matrix Size / Shape"
   ]
  },
  {
   "cell_type": "code",
   "execution_count": 27,
   "metadata": {},
   "outputs": [
    {
     "name": "stdout",
     "output_type": "stream",
     "text": [
      "9\n"
     ]
    }
   ],
   "source": [
    "import numpy as np\n",
    "\n",
    "I = np.eye(3)\n",
    "print(I.size)"
   ]
  },
  {
   "cell_type": "markdown",
   "metadata": {},
   "source": [
    "## Matrix Dimensions"
   ]
  },
  {
   "cell_type": "code",
   "execution_count": 28,
   "metadata": {},
   "outputs": [
    {
     "name": "stdout",
     "output_type": "stream",
     "text": [
      "(3, 3)\n"
     ]
    }
   ],
   "source": [
    "import numpy as np\n",
    "\n",
    "I = np.eye(3)\n",
    "print(I.shape)"
   ]
  },
  {
   "cell_type": "markdown",
   "metadata": {},
   "source": [
    "## Slicing Matrix"
   ]
  },
  {
   "cell_type": "code",
   "execution_count": 29,
   "metadata": {},
   "outputs": [
    {
     "name": "stdout",
     "output_type": "stream",
     "text": [
      "[[1 2 3]\n",
      " [2 5 2]]\n",
      "[[2 3]\n",
      " [5 2]]\n",
      "[[ 2  5]\n",
      " [ 6 -3]]\n",
      "[[1 3]\n",
      " [6 1]]\n",
      "[3 2 1]\n",
      "[[ 6 -3  1]\n",
      " [ 2  5  2]\n",
      " [ 1  2  3]]\n",
      "[[ 1 -3  6]\n",
      " [ 2  5  2]\n",
      " [ 3  2  1]]\n"
     ]
    }
   ],
   "source": [
    "import numpy as np\n",
    "\n",
    "A = np.array([[1, 2, 3],\n",
    "              [2, 5, 2],\n",
    "              [6, -3, 1]])\n",
    "\n",
    "print(A[:2])\t\t\t# first two rows\n",
    "print(A[:2, 1:])\t\t# first two rows, second column\n",
    "print(A[1:3, :2])\t\t# second and third rows, first two columns\n",
    "print(A[::2, ::2])\t\t# every second row, every second column\n",
    "print(A[:, 2])\t\t\t# all rows, third column\n",
    "print(A[::-1])\t\t\t# reverse the order of the rows\n",
    "print(A[::-1, ::-1])\t# reverse the order of the rows, reverse the order of the columns\n"
   ]
  },
  {
   "cell_type": "markdown",
   "metadata": {},
   "source": [
    "## Elimination Matrix"
   ]
  },
  {
   "cell_type": "code",
   "execution_count": 30,
   "metadata": {},
   "outputs": [
    {
     "name": "stdout",
     "output_type": "stream",
     "text": [
      "A = \n",
      " [[1 1 8]\n",
      " [5 1 3]\n",
      " [7 6 6]]\n",
      "\n",
      "E = \n",
      " [[ 1.    0.    0.  ]\n",
      " [-5.    1.    0.  ]\n",
      " [-5.75 -0.25  1.  ]]\n",
      "\n",
      "EA = \n",
      " [[  1.     1.     8.  ]\n",
      " [  0.    -4.   -37.  ]\n",
      " [  0.     0.   -40.75]]\n"
     ]
    }
   ],
   "source": [
    "import numpy as np\n",
    "\n",
    "\n",
    "def mat_elim(A):\n",
    "    E1 = np.eye(A.shape[0])\n",
    "    E1[1, 0] = -A[1, 0] / A[0, 0]\n",
    "    A1 = E1 @ A\n",
    "\n",
    "    E2 = np.eye(A.shape[0])\n",
    "    E2[2, 0] = -A1[2, 0] / A1[0, 0]\n",
    "    A2 = E2 @ A1\n",
    "\n",
    "    E3 = np.eye(A.shape[0])\n",
    "    E3[2, 1] = -A2[2, 1] / A2[1, 1]\n",
    "    A3 = E3 @ A2\n",
    "\n",
    "    return E3 @ (E2 @ E1)\n",
    "\n",
    "\n",
    "A = np.array([[1, 1, 8],\n",
    "              [5, 1, 3],\n",
    "              [7, 6, 6]])\n",
    "print(\"A = \\n\", A)\n",
    "E = mat_elim(A)\n",
    "print(\"\\nE = \\n\", E)\n",
    "print(\"\\nEA = \\n\", np.around(E @ A, 3))\n"
   ]
  },
  {
   "cell_type": "markdown",
   "metadata": {},
   "source": [
    "## Permutation Matrix\n",
    "- If row 1 and row 2 are swapped, then the determinant and determinant is negative"
   ]
  },
  {
   "cell_type": "code",
   "execution_count": 40,
   "metadata": {},
   "outputs": [
    {
     "name": "stdout",
     "output_type": "stream",
     "text": [
      "Exchange row 2 and row 3\n",
      "Before:\n",
      "[[1. 0. 0.]\n",
      " [0. 1. 0.]\n",
      " [0. 0. 1.]]\n",
      "After:\n",
      "[[1. 0. 0.]\n",
      " [0. 0. 1.]\n",
      " [0. 1. 0.]]\n"
     ]
    }
   ],
   "source": [
    "import numpy as np\n",
    "\n",
    "I = np.eye(3)\n",
    "P = I.copy()  # don't use P = I\n",
    "\n",
    "print(\"Exchange row 2 and row 3\")\n",
    "print(f\"Before:\\n{P}\")\n",
    "\n",
    "P[1], P[2] = I[2], I[1]\n",
    "\n",
    "print(f\"After:\\n{P}\")\n"
   ]
  },
  {
   "cell_type": "markdown",
   "metadata": {},
   "source": [
    "## Transpose Matrix"
   ]
  },
  {
   "cell_type": "code",
   "execution_count": 32,
   "metadata": {},
   "outputs": [
    {
     "name": "stdout",
     "output_type": "stream",
     "text": [
      "A = \n",
      "[[1 2 3]\n",
      " [4 5 6]]\n",
      "\n",
      "A.T = \n",
      "[[1 4]\n",
      " [2 5]\n",
      " [3 6]]\n"
     ]
    }
   ],
   "source": [
    "import numpy as np\n",
    "\n",
    "A = np.array([[1, 2, 3],\n",
    "              [4, 5, 6]])\n",
    "print(f\"A = \\n{A}\")\n",
    "print(f\"\\nA.T = \\n{A.T}\")\n"
   ]
  },
  {
   "cell_type": "markdown",
   "metadata": {},
   "source": [
    "## Matrix Power\n",
    "- A^n is **not** raising the power each element of matrix by n times, but rather the dot product of that matrix n times!\n",
    "- Must be a square matrix"
   ]
  },
  {
   "cell_type": "code",
   "execution_count": 33,
   "metadata": {},
   "outputs": [
    {
     "name": "stdout",
     "output_type": "stream",
     "text": [
      "A^3 = \n",
      "[[ 468  576  684]\n",
      " [1062 1305 1548]\n",
      " [1656 2034 2412]]\n",
      "\n",
      "A^3 = \n",
      "[[ 468  576  684]\n",
      " [1062 1305 1548]\n",
      " [1656 2034 2412]]\n"
     ]
    }
   ],
   "source": [
    "import numpy as np\n",
    "\n",
    "A = np.array([[1, 2, 3],\n",
    "              [4, 5, 6],\n",
    "              [7, 8, 9]])\n",
    "print(f\"A^3 = \\n{A @ A @ A}\")\n",
    "print(f\"\\nA^3 = \\n{np.linalg.matrix_power(A, 3)}\")\n"
   ]
  },
  {
   "cell_type": "markdown",
   "metadata": {},
   "source": [
    "## Adjoint Matrix"
   ]
  },
  {
   "cell_type": "code",
   "execution_count": 34,
   "metadata": {},
   "outputs": [
    {
     "name": "stdout",
     "output_type": "stream",
     "text": [
      "[[-0.0736 -0.0552  0.1411]\n",
      " [ 0.2577 -0.3067  0.0061]\n",
      " [-0.0307  0.227  -0.0245]]\n"
     ]
    }
   ],
   "source": [
    "import numpy as np\n",
    "\n",
    "A = np.array([[1, 1, 8],\n",
    "              [5, 1, 3],\n",
    "              [7, 6, 6]])\n",
    "\n",
    "print(np.linalg.inv(A).T)\n"
   ]
  },
  {
   "cell_type": "markdown",
   "metadata": {},
   "source": [
    "## Determinant"
   ]
  },
  {
   "cell_type": "code",
   "execution_count": 35,
   "metadata": {},
   "outputs": [
    {
     "name": "stdout",
     "output_type": "stream",
     "text": [
      "-77.00000000000001\n"
     ]
    }
   ],
   "source": [
    "import numpy as np\n",
    "\n",
    "A = np.array([[1, 2, 3],\n",
    "              [2, 5, 2],\n",
    "              [6, -3, 1]])\n",
    "\n",
    "print(np.linalg.det(A))\n"
   ]
  },
  {
   "cell_type": "markdown",
   "metadata": {},
   "source": [
    "## Matrix Rank\n",
    "- The rank of a matrix A is the dimension of the vector space generated by its columns."
   ]
  },
  {
   "cell_type": "code",
   "execution_count": 44,
   "metadata": {},
   "outputs": [
    {
     "name": "stdout",
     "output_type": "stream",
     "text": [
      "rank(A) = 3\n",
      "rank(A) = 3\n"
     ]
    }
   ],
   "source": [
    "import numpy as np\n",
    "\n",
    "# matrix rank\n",
    "A = np.array([[1, 2, 3],\n",
    "              [2, 5, 2],\n",
    "              [6, -3, 1]])\n",
    "print(f\"rank(A) = {np.linalg.matrix_rank(A)}\")\n",
    "# shape return the number of rows and columns, so we take the first element (since both are equal)\n",
    "print(f\"rank(A) = {np.linalg.matrix_power(A, 3).shape[0]}\")\n"
   ]
  },
  {
   "cell_type": "markdown",
   "metadata": {},
   "source": [
    "## LU Factorization\n",
    "- L @ U will give the initial matrix"
   ]
  },
  {
   "cell_type": "code",
   "execution_count": 62,
   "metadata": {},
   "outputs": [
    {
     "name": "stdout",
     "output_type": "stream",
     "text": [
      "A = \n",
      "[[ 1  2  3]\n",
      " [ 2  5  2]\n",
      " [ 6 -3  1]]\n",
      "\n",
      "L = \n",
      "[[  1.   0.   0.]\n",
      " [  2.   1.   0.]\n",
      " [  6. -15.   1.]]\n",
      "\n",
      "U = \n",
      "[[  1   2   3]\n",
      " [  0   1  -4]\n",
      " [  0   0 -77]]\n"
     ]
    }
   ],
   "source": [
    "import numpy as np\n",
    "\n",
    "A = np.array([[1, 2, 3],\n",
    "              [2, 5, 2],\n",
    "              [6, -3, 1]])\n",
    "\n",
    "print(f\"A = \\n{A}\\n\")\n",
    "L = np.eye(A.shape[0]) # (L)ower triangular matrix\n",
    "U = A.copy() # (U)pper triangular matrix\n",
    "L[1, 0] = U[1, 0] / U[0, 0] # row 2 = row 2 - (row 2 / row 1) * row 1\n",
    "U[1] = U[1] - (L[1, 0] * U[0]) # row 2 = row 2 - (row 2 / row 1) * row 1\n",
    "\n",
    "L[2, 0] = U[2, 0] / U[0, 0] # row 3 = row 3 - (row 3 / row 1) * row 1\n",
    "U[2] = U[2] - (L[2, 0] * U[0]) # row 3 = row 3 - (row 3 / row 1) * row 1\n",
    "\n",
    "L[2, 1] = U[2, 1] / U[1, 1] # row 3 = row 3 - (row 3 / row 2) * row 2\n",
    "U[2] = U[2] - (L[2, 1] * U[1]) # row 3 = row 3 - (row 3 / row 2) * row 2\n",
    "\n",
    "print(f\"L = \\n{L}\\n\")\n",
    "print(f\"U = \\n{U}\")\n"
   ]
  },
  {
   "cell_type": "markdown",
   "metadata": {},
   "source": [
    "------\n",
    "# Matplotlib"
   ]
  },
  {
   "cell_type": "markdown",
   "metadata": {},
   "source": [
    "## Colors\n"
   ]
  },
  {
   "cell_type": "code",
   "execution_count": 36,
   "metadata": {},
   "outputs": [],
   "source": [
    "import matplotlib.colors as mcolors\n",
    "\n",
    "red = mcolors.to_rgb([1, 0, 0])\n",
    "green = mcolors.to_rgb([0, 1, 0])\n",
    "blue = mcolors.to_rgb([0, 0, 1])\n"
   ]
  },
  {
   "cell_type": "markdown",
   "metadata": {},
   "source": [
    "## Plotting\n"
   ]
  },
  {
   "cell_type": "code",
   "execution_count": 37,
   "metadata": {},
   "outputs": [
    {
     "data": {
      "text/plain": [
       "<matplotlib.legend.Legend at 0x1b7b4e61540>"
      ]
     },
     "execution_count": 37,
     "metadata": {},
     "output_type": "execute_result"
    },
    {
     "data": {
      "image/png": "[encoded data removed]",
      "text/plain": [
       "<Figure size 432x288 with 1 Axes>"
      ]
     },
     "metadata": {
      "needs_background": "light"
     },
     "output_type": "display_data"
    }
   ],
   "source": [
    "import matplotlib.pyplot as plt\n",
    "\n",
    "red = mcolors.to_rgb([1, 0, 0])\n",
    "green = mcolors.to_rgb([0, 1, 0])\n",
    "blue = mcolors.to_rgb([0, 0, 1])\n",
    "\n",
    "plt.plot([0, 1], [0, 2], color=red)\n",
    "plt.plot(1, 1, 'o', color=green)\n",
    "plt.plot(0.5, 0.5, 's', color=blue, markersize=20)\n",
    "plt.plot([0, 2], [0, 3], '--', label='u')\n",
    "plt.plot([0, 1], [0, 4], '-.', label='v')\n",
    "plt.plot([0, 3], [0, 2], 'g-', label='w')\n",
    "plt.legend()\n"
   ]
  },
  {
   "cell_type": "markdown",
   "metadata": {},
   "source": [
    "## Mixing Colors\n"
   ]
  },
  {
   "cell_type": "code",
   "execution_count": 38,
   "metadata": {},
   "outputs": [
    {
     "data": {
      "text/plain": [
       "[<matplotlib.lines.Line2D at 0x1b7b4f5bf40>]"
      ]
     },
     "execution_count": 38,
     "metadata": {},
     "output_type": "execute_result"
    },
    {
     "data": {
      "image/png": "[encoded data removed]",
      "text/plain": [
       "<Figure size 432x288 with 1 Axes>"
      ]
     },
     "metadata": {
      "needs_background": "light"
     },
     "output_type": "display_data"
    }
   ],
   "source": [
    "def color_mix(c1, c2):\n",
    "    return (np.array(c1) * 0.5) + (np.array(c2) * 0.5)\n",
    "\n",
    "\n",
    "red = mcolors.to_rgb([1, 0, 0])\n",
    "green = mcolors.to_rgb([0, 1, 0])\n",
    "blue = mcolors.to_rgb([0, 0, 1])\n",
    "mycolor = color_mix(red, green)\n",
    "plt.plot(2, 4, 'o', color=mycolor, markersize=50)\n"
   ]
  }
 ],
 "metadata": {
  "kernelspec": {
   "display_name": "Python 3.10.2 64-bit",
   "language": "python",
   "name": "python3"
  },
  "language_info": {
   "codemirror_mode": {
    "name": "ipython",
    "version": 3
   },
   "file_extension": ".py",
   "mimetype": "text/x-python",
   "name": "python",
   "nbconvert_exporter": "python",
   "pygments_lexer": "ipython3",
   "version": "3.10.6"
  },
  "orig_nbformat": 4,
  "vscode": {
   "interpreter": {
    "hash": "4adce72273552676f6ca14a0695d1dabca2b5c39ed8c19adc6119f88e35eff30"
   }
  }
 },
 "nbformat": 4,
 "nbformat_minor": 2
}
