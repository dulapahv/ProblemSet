{
 "cells": [
  {
   "cell_type": "code",
   "execution_count": 1,
   "metadata": {},
   "outputs": [],
   "source": [
    "def add_vec(v1, v2):\n",
    "\tif len(v1) == len(v2):\n",
    "\t\treturn v1 + v2\n",
    "\telse:\n",
    "\t\treturn \"error: vectors must be in the same size\"\n"
   ]
  }
 ],
 "metadata": {
  "kernelspec": {
   "display_name": "Python 3 (ipykernel)",
   "language": "python",
   "name": "python3"
  },
  "language_info": {
   "codemirror_mode": {
    "name": "ipython",
    "version": 3
   },
   "file_extension": ".py",
   "mimetype": "text/x-python",
   "name": "python",
   "nbconvert_exporter": "python",
   "pygments_lexer": "ipython3",
   "version": "3.10.7"
  },
  "vscode": {
   "interpreter": {
    "hash": "4adce72273552676f6ca14a0695d1dabca2b5c39ed8c19adc6119f88e35eff30"
   }
  }
 },
 "nbformat": 4,
 "nbformat_minor": 2
}
